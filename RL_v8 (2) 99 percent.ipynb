{
  "cells": [
    {
      "cell_type": "code",
      "execution_count": 1,
      "metadata": {
        "colab": {
          "base_uri": "https://localhost:8080/"
        },
        "id": "_W5x4io5-OBh",
        "outputId": "0b1fdddc-846f-446b-890d-3e158261d33c"
      },
      "outputs": [
        {
          "name": "stdout",
          "output_type": "stream",
          "text": [
            "Collecting numpy\n",
            "  Downloading numpy-2.3.4-cp313-cp313-macosx_14_0_arm64.whl.metadata (62 kB)\n",
            "Collecting pandas\n",
            "  Downloading pandas-2.3.3-cp313-cp313-macosx_11_0_arm64.whl.metadata (91 kB)\n",
            "Collecting matplotlib\n",
            "  Downloading matplotlib-3.10.7-cp313-cp313-macosx_11_0_arm64.whl.metadata (11 kB)\n",
            "Collecting seaborn\n",
            "  Downloading seaborn-0.13.2-py3-none-any.whl.metadata (5.4 kB)\n",
            "Collecting torch\n",
            "  Downloading torch-2.9.0-cp313-none-macosx_11_0_arm64.whl.metadata (30 kB)\n",
            "Collecting gymnasium\n",
            "  Downloading gymnasium-1.2.1-py3-none-any.whl.metadata (10.0 kB)\n",
            "Collecting scikit-learn\n",
            "  Downloading scikit_learn-1.7.2-cp313-cp313-macosx_12_0_arm64.whl.metadata (11 kB)\n",
            "Collecting tqdm\n",
            "  Downloading tqdm-4.67.1-py3-none-any.whl.metadata (57 kB)\n",
            "Requirement already satisfied: python-dateutil>=2.8.2 in ./.venv/lib/python3.13/site-packages (from pandas) (2.9.0.post0)\n",
            "Collecting pytz>=2020.1 (from pandas)\n",
            "  Downloading pytz-2025.2-py2.py3-none-any.whl.metadata (22 kB)\n",
            "Collecting tzdata>=2022.7 (from pandas)\n",
            "  Downloading tzdata-2025.2-py2.py3-none-any.whl.metadata (1.4 kB)\n",
            "Collecting contourpy>=1.0.1 (from matplotlib)\n",
            "  Downloading contourpy-1.3.3-cp313-cp313-macosx_11_0_arm64.whl.metadata (5.5 kB)\n",
            "Collecting cycler>=0.10 (from matplotlib)\n",
            "  Downloading cycler-0.12.1-py3-none-any.whl.metadata (3.8 kB)\n",
            "Collecting fonttools>=4.22.0 (from matplotlib)\n",
            "  Downloading fonttools-4.60.1-cp313-cp313-macosx_10_13_universal2.whl.metadata (112 kB)\n",
            "Collecting kiwisolver>=1.3.1 (from matplotlib)\n",
            "  Downloading kiwisolver-1.4.9-cp313-cp313-macosx_11_0_arm64.whl.metadata (6.3 kB)\n",
            "Requirement already satisfied: packaging>=20.0 in ./.venv/lib/python3.13/site-packages (from matplotlib) (25.0)\n",
            "Collecting pillow>=8 (from matplotlib)\n",
            "  Downloading pillow-12.0.0-cp313-cp313-macosx_11_0_arm64.whl.metadata (8.8 kB)\n",
            "Collecting pyparsing>=3 (from matplotlib)\n",
            "  Downloading pyparsing-3.2.5-py3-none-any.whl.metadata (5.0 kB)\n",
            "Collecting filelock (from torch)\n",
            "  Downloading filelock-3.20.0-py3-none-any.whl.metadata (2.1 kB)\n",
            "Collecting typing-extensions>=4.10.0 (from torch)\n",
            "  Downloading typing_extensions-4.15.0-py3-none-any.whl.metadata (3.3 kB)\n",
            "Collecting setuptools (from torch)\n",
            "  Downloading setuptools-80.9.0-py3-none-any.whl.metadata (6.6 kB)\n",
            "Collecting sympy>=1.13.3 (from torch)\n",
            "  Downloading sympy-1.14.0-py3-none-any.whl.metadata (12 kB)\n",
            "Collecting networkx>=2.5.1 (from torch)\n",
            "  Downloading networkx-3.5-py3-none-any.whl.metadata (6.3 kB)\n",
            "Collecting jinja2 (from torch)\n",
            "  Downloading jinja2-3.1.6-py3-none-any.whl.metadata (2.9 kB)\n",
            "Collecting fsspec>=0.8.5 (from torch)\n",
            "  Downloading fsspec-2025.9.0-py3-none-any.whl.metadata (10 kB)\n",
            "Collecting cloudpickle>=1.2.0 (from gymnasium)\n",
            "  Downloading cloudpickle-3.1.1-py3-none-any.whl.metadata (7.1 kB)\n",
            "Collecting farama-notifications>=0.0.1 (from gymnasium)\n",
            "  Downloading Farama_Notifications-0.0.4-py3-none-any.whl.metadata (558 bytes)\n",
            "Collecting scipy>=1.8.0 (from scikit-learn)\n",
            "  Downloading scipy-1.16.2-cp313-cp313-macosx_14_0_arm64.whl.metadata (62 kB)\n",
            "Collecting joblib>=1.2.0 (from scikit-learn)\n",
            "  Downloading joblib-1.5.2-py3-none-any.whl.metadata (5.6 kB)\n",
            "Collecting threadpoolctl>=3.1.0 (from scikit-learn)\n",
            "  Downloading threadpoolctl-3.6.0-py3-none-any.whl.metadata (13 kB)\n",
            "Requirement already satisfied: six>=1.5 in ./.venv/lib/python3.13/site-packages (from python-dateutil>=2.8.2->pandas) (1.17.0)\n",
            "Collecting mpmath<1.4,>=1.1.0 (from sympy>=1.13.3->torch)\n",
            "  Downloading mpmath-1.3.0-py3-none-any.whl.metadata (8.6 kB)\n",
            "Collecting MarkupSafe>=2.0 (from jinja2->torch)\n",
            "  Downloading markupsafe-3.0.3-cp313-cp313-macosx_11_0_arm64.whl.metadata (2.7 kB)\n",
            "Downloading numpy-2.3.4-cp313-cp313-macosx_14_0_arm64.whl (5.1 MB)\n",
            "\u001b[2K   \u001b[90m━━━━━━━━━━━━━━━━━━━━━━━━━━━━━━━━━━━━━━━━\u001b[0m \u001b[32m5.1/5.1 MB\u001b[0m \u001b[31m9.6 MB/s\u001b[0m  \u001b[33m0:00:00\u001b[0m eta \u001b[36m0:00:01\u001b[0m\n",
            "\u001b[?25hDownloading pandas-2.3.3-cp313-cp313-macosx_11_0_arm64.whl (10.7 MB)\n",
            "\u001b[2K   \u001b[90m━━━━━━━━━━━━━━━━━━━━━━━━━━━━━━━━━━━━━━━━\u001b[0m \u001b[32m10.7/10.7 MB\u001b[0m \u001b[31m11.5 MB/s\u001b[0m  \u001b[33m0:00:00\u001b[0meta \u001b[36m0:00:01\u001b[0m\n",
            "\u001b[?25hDownloading matplotlib-3.10.7-cp313-cp313-macosx_11_0_arm64.whl (8.1 MB)\n",
            "\u001b[2K   \u001b[90m━━━━━━━━━━━━━━━━━━━━━━━━━━━━━━━━━━━━━━━━\u001b[0m \u001b[32m8.1/8.1 MB\u001b[0m \u001b[31m11.3 MB/s\u001b[0m  \u001b[33m0:00:00\u001b[0m eta \u001b[36m0:00:01\u001b[0m\n",
            "\u001b[?25hDownloading seaborn-0.13.2-py3-none-any.whl (294 kB)\n",
            "Downloading torch-2.9.0-cp313-none-macosx_11_0_arm64.whl (74.5 MB)\n",
            "\u001b[2K   \u001b[90m━━━━━━━━━━━━━━━━━━━━━━━━━━━━━━━━━━━━━━━━\u001b[0m \u001b[32m74.5/74.5 MB\u001b[0m \u001b[31m11.2 MB/s\u001b[0m  \u001b[33m0:00:06\u001b[0mm0:00:01\u001b[0m00:01\u001b[0m\n",
            "\u001b[?25hDownloading gymnasium-1.2.1-py3-none-any.whl (951 kB)\n",
            "\u001b[2K   \u001b[90m━━━━━━━━━━━━━━━━━━━━━━━━━━━━━━━━━━━━━━━━\u001b[0m \u001b[32m951.1/951.1 kB\u001b[0m \u001b[31m11.1 MB/s\u001b[0m  \u001b[33m0:00:00\u001b[0m\n",
            "\u001b[?25hDownloading scikit_learn-1.7.2-cp313-cp313-macosx_12_0_arm64.whl (8.6 MB)\n",
            "\u001b[2K   \u001b[90m━━━━━━━━━━━━━━━━━━━━━━━━━━━━━━━━━━━━━━━━\u001b[0m \u001b[32m8.6/8.6 MB\u001b[0m \u001b[31m11.4 MB/s\u001b[0m  \u001b[33m0:00:00\u001b[0m eta \u001b[36m0:00:01\u001b[0m\n",
            "\u001b[?25hDownloading tqdm-4.67.1-py3-none-any.whl (78 kB)\n",
            "Downloading cloudpickle-3.1.1-py3-none-any.whl (20 kB)\n",
            "Downloading contourpy-1.3.3-cp313-cp313-macosx_11_0_arm64.whl (274 kB)\n",
            "Downloading cycler-0.12.1-py3-none-any.whl (8.3 kB)\n",
            "Downloading Farama_Notifications-0.0.4-py3-none-any.whl (2.5 kB)\n",
            "Downloading fonttools-4.60.1-cp313-cp313-macosx_10_13_universal2.whl (2.8 MB)\n",
            "\u001b[2K   \u001b[90m━━━━━━━━━━━━━━━━━━━━━━━━━━━━━━━━━━━━━━━━\u001b[0m \u001b[32m2.8/2.8 MB\u001b[0m \u001b[31m11.0 MB/s\u001b[0m  \u001b[33m0:00:00\u001b[0m eta \u001b[36m0:00:01\u001b[0m\n",
            "\u001b[?25hDownloading fsspec-2025.9.0-py3-none-any.whl (199 kB)\n",
            "Downloading joblib-1.5.2-py3-none-any.whl (308 kB)\n",
            "Downloading kiwisolver-1.4.9-cp313-cp313-macosx_11_0_arm64.whl (64 kB)\n",
            "Downloading networkx-3.5-py3-none-any.whl (2.0 MB)\n",
            "\u001b[2K   \u001b[90m━━━━━━━━━━━━━━━━━━━━━━━━━━━━━━━━━━━━━━━━\u001b[0m \u001b[32m2.0/2.0 MB\u001b[0m \u001b[31m11.1 MB/s\u001b[0m  \u001b[33m0:00:00\u001b[0m\n",
            "\u001b[?25hDownloading pillow-12.0.0-cp313-cp313-macosx_11_0_arm64.whl (4.7 MB)\n",
            "\u001b[2K   \u001b[90m━━━━━━━━━━━━━━━━━━━━━━━━━━━━━━━━━━━━━━━━\u001b[0m \u001b[32m4.7/4.7 MB\u001b[0m \u001b[31m11.4 MB/s\u001b[0m  \u001b[33m0:00:00\u001b[0m eta \u001b[36m0:00:01\u001b[0m\n",
            "\u001b[?25hDownloading pyparsing-3.2.5-py3-none-any.whl (113 kB)\n",
            "Downloading pytz-2025.2-py2.py3-none-any.whl (509 kB)\n",
            "Downloading scipy-1.16.2-cp313-cp313-macosx_14_0_arm64.whl (20.9 MB)\n",
            "\u001b[2K   \u001b[90m━━━━━━━━━━━━━━━━━━━━━━━━━━━━━━━━━━━━━━━━\u001b[0m \u001b[32m20.9/20.9 MB\u001b[0m \u001b[31m10.1 MB/s\u001b[0m  \u001b[33m0:00:02\u001b[0mm0:00:01\u001b[0m00:01\u001b[0m\n",
            "\u001b[?25hDownloading sympy-1.14.0-py3-none-any.whl (6.3 MB)\n",
            "\u001b[2K   \u001b[90m━━━━━━━━━━━━━━━━━━━━━━━━━━━━━━━━━━━━━━━━\u001b[0m \u001b[32m6.3/6.3 MB\u001b[0m \u001b[31m11.0 MB/s\u001b[0m  \u001b[33m0:00:00\u001b[0m eta \u001b[36m0:00:01\u001b[0m\n",
            "\u001b[?25hDownloading mpmath-1.3.0-py3-none-any.whl (536 kB)\n",
            "\u001b[2K   \u001b[90m━━━━━━━━━━━━━━━━━━━━━━━━━━━━━━━━━━━━━━━━\u001b[0m \u001b[32m536.2/536.2 kB\u001b[0m \u001b[31m9.9 MB/s\u001b[0m  \u001b[33m0:00:00\u001b[0m\n",
            "\u001b[?25hDownloading threadpoolctl-3.6.0-py3-none-any.whl (18 kB)\n",
            "Downloading typing_extensions-4.15.0-py3-none-any.whl (44 kB)\n",
            "Downloading tzdata-2025.2-py2.py3-none-any.whl (347 kB)\n",
            "Downloading filelock-3.20.0-py3-none-any.whl (16 kB)\n",
            "Downloading jinja2-3.1.6-py3-none-any.whl (134 kB)\n",
            "Downloading markupsafe-3.0.3-cp313-cp313-macosx_11_0_arm64.whl (12 kB)\n",
            "Downloading setuptools-80.9.0-py3-none-any.whl (1.2 MB)\n",
            "\u001b[2K   \u001b[90m━━━━━━━━━━━━━━━━━━━━━━━━━━━━━━━━━━━━━━━━\u001b[0m \u001b[32m1.2/1.2 MB\u001b[0m \u001b[31m10.0 MB/s\u001b[0m  \u001b[33m0:00:00\u001b[0m\n",
            "\u001b[?25hInstalling collected packages: pytz, mpmath, farama-notifications, tzdata, typing-extensions, tqdm, threadpoolctl, sympy, setuptools, pyparsing, pillow, numpy, networkx, MarkupSafe, kiwisolver, joblib, fsspec, fonttools, filelock, cycler, cloudpickle, scipy, pandas, jinja2, gymnasium, contourpy, torch, scikit-learn, matplotlib, seaborn\n",
            "\u001b[2K   \u001b[90m━━━━━━━━━━━━━━━━━━━━━━━━━━━━━━━━━━━━━━━━\u001b[0m \u001b[32m30/30\u001b[0m [seaborn]8/30\u001b[0m [matplotlib]n]\n",
            "\u001b[1A\u001b[2KSuccessfully installed MarkupSafe-3.0.3 cloudpickle-3.1.1 contourpy-1.3.3 cycler-0.12.1 farama-notifications-0.0.4 filelock-3.20.0 fonttools-4.60.1 fsspec-2025.9.0 gymnasium-1.2.1 jinja2-3.1.6 joblib-1.5.2 kiwisolver-1.4.9 matplotlib-3.10.7 mpmath-1.3.0 networkx-3.5 numpy-2.3.4 pandas-2.3.3 pillow-12.0.0 pyparsing-3.2.5 pytz-2025.2 scikit-learn-1.7.2 scipy-1.16.2 seaborn-0.13.2 setuptools-80.9.0 sympy-1.14.0 threadpoolctl-3.6.0 torch-2.9.0 tqdm-4.67.1 typing-extensions-4.15.0 tzdata-2025.2\n"
          ]
        }
      ],
      "source": [
        "\n",
        "!pip install numpy pandas matplotlib seaborn torch gymnasium scikit-learn tqdm"
      ]
    },
    {
      "cell_type": "code",
      "execution_count": 2,
      "metadata": {
        "colab": {
          "base_uri": "https://localhost:8080/"
        },
        "id": "p3jefCtS-QHX",
        "outputId": "cf6ecabf-fa43-43ef-e78e-586532158128"
      },
      "outputs": [
        {
          "name": "stderr",
          "output_type": "stream",
          "text": [
            "Matplotlib is building the font cache; this may take a moment.\n"
          ]
        },
        {
          "data": {
            "text/plain": [
              "<torch._C.Generator at 0x140b38b70>"
            ]
          },
          "execution_count": 2,
          "metadata": {},
          "output_type": "execute_result"
        }
      ],
      "source": [
        "# =============================================================================\n",
        "# CELL 2: Import Required Libraries\n",
        "# =============================================================================\n",
        "\n",
        "import numpy as np\n",
        "import pandas as pd\n",
        "import matplotlib.pyplot as plt\n",
        "import seaborn as sns\n",
        "from sklearn.preprocessing import StandardScaler\n",
        "from sklearn.model_selection import train_test_split\n",
        "import torch\n",
        "import torch.nn as nn\n",
        "import torch.optim as optim\n",
        "import random\n",
        "from collections import deque, namedtuple\n",
        "from tqdm import tqdm\n",
        "import warnings\n",
        "warnings.filterwarnings('ignore')\n",
        "\n",
        "# Set random seeds for reproducibility\n",
        "np.random.seed(42)\n",
        "random.seed(42)\n",
        "torch.manual_seed(42)"
      ]
    },
    {
      "cell_type": "code",
      "execution_count": 3,
      "metadata": {
        "colab": {
          "base_uri": "https://localhost:8080/"
        },
        "id": "3wrw6XXR-X4L",
        "outputId": "2967a34d-b013-49c3-bbca-b7419e753aed"
      },
      "outputs": [
        {
          "name": "stdout",
          "output_type": "stream",
          "text": [
            "Generated 10000 loan applications\n",
            "\n",
            "Default rate: 13.59%\n",
            "\n",
            "First few rows:\n",
            "          income  credit_score  employment_length  debt_to_income  \\\n",
            "0   71810.381696    512.560075           1.704060        0.302520   \n",
            "1   44833.941906    783.013331           1.983329        0.083576   \n",
            "2   41468.507531    700.997474           7.309342        0.155662   \n",
            "3   41469.068830    807.029551           0.951041        0.044694   \n",
            "4  139491.432367    404.033285           2.404601        0.269741   \n",
            "\n",
            "    loan_amount        age  num_credit_lines  credit_history_length  \\\n",
            "0  16312.139587  52.432107                11              35.013291   \n",
            "1  31766.095071  41.240180                 2               2.960015   \n",
            "2  16276.080092  31.896098                 3               5.259030   \n",
            "3  29529.685744  34.395958                 2               5.379086   \n",
            "4   9313.851344  57.907328                 5               5.729206   \n",
            "\n",
            "   default_probability  defaults  \n",
            "0             0.150163         1  \n",
            "1             0.112994         0  \n",
            "2             0.137767         0  \n",
            "3             0.107169         0  \n",
            "4             0.112907         1  \n",
            "\n",
            "Data statistics:\n",
            "              income  credit_score  employment_length  debt_to_income  \\\n",
            "count   10000.000000  10000.000000       10000.000000    10000.000000   \n",
            "mean    60447.050856    649.950097           5.016670        0.170943   \n",
            "std     42244.787245     97.689953           5.030324        0.095062   \n",
            "min       406.381345    305.842075           0.000084        0.000734   \n",
            "25%     29494.964625    581.878009           1.427597        0.096366   \n",
            "50%     50749.618507    649.792395           3.440908        0.158031   \n",
            "75%     81319.869986    717.577734           6.988510        0.232850   \n",
            "max    408306.980535    850.000000          40.000000        0.537571   \n",
            "\n",
            "         loan_amount           age  num_credit_lines  credit_history_length  \\\n",
            "count   10000.000000  10000.000000      10000.000000           10000.000000   \n",
            "mean    29948.663922     39.954785          5.032200               8.080115   \n",
            "std     21147.377187     11.499426          2.237155               7.795564   \n",
            "min       176.175193     18.000000          0.000000               0.001171   \n",
            "25%     14425.818182     31.735065          3.000000               2.299702   \n",
            "50%     25342.220038     39.875194          5.000000               5.685878   \n",
            "75%     40088.351346     47.887226          6.000000              11.253239   \n",
            "max    196672.280102     80.000000         15.000000              40.000000   \n",
            "\n",
            "       default_probability      defaults  \n",
            "count         10000.000000  10000.000000  \n",
            "mean              0.130933      0.135900  \n",
            "std               0.048236      0.342699  \n",
            "min               0.000000      0.000000  \n",
            "25%               0.102551      0.000000  \n",
            "50%               0.137787      0.000000  \n",
            "75%               0.165549      0.000000  \n",
            "max               0.266960      1.000000  \n"
          ]
        }
      ],
      "source": [
        "# =============================================================================\n",
        "# CELL 3: Generate Synthetic Loan Application Data\n",
        "# =============================================================================\n",
        "\n",
        "def generate_loan_data(n_samples=10000):\n",
        "    \"\"\"\n",
        "    Generate synthetic loan application data with realistic distributions\n",
        "    \"\"\"\n",
        "    np.random.seed(42)\n",
        "\n",
        "    # Generate features\n",
        "    data = {\n",
        "        'income': np.random.gamma(shape=2, scale=30000, size=n_samples),\n",
        "        'credit_score': np.random.normal(loc=650, scale=100, size=n_samples).clip(300, 850),\n",
        "        'employment_length': np.random.exponential(scale=5, size=n_samples).clip(0, 40),\n",
        "        'debt_to_income': np.random.beta(a=2, b=5, size=n_samples) * 0.6,\n",
        "        'loan_amount': np.random.gamma(shape=2, scale=15000, size=n_samples),\n",
        "        'age': np.random.normal(loc=40, scale=12, size=n_samples).clip(18, 80),\n",
        "        'num_credit_lines': np.random.poisson(lam=5, size=n_samples).clip(0, 20),\n",
        "        'credit_history_length': np.random.exponential(scale=8, size=n_samples).clip(0, 40),\n",
        "    }\n",
        "\n",
        "    df = pd.DataFrame(data)\n",
        "\n",
        "    # Calculate default probability based on risk factors\n",
        "    # FIXED: Adjusted to produce realistic default rate (15-20% instead of 45%)\n",
        "    risk_score = (\n",
        "        (df['credit_score'] - 300) / 550 * 0.35 +\n",
        "        (df['income'] / 100000) * 0.30 +\n",
        "        (1 - df['debt_to_income']) * 0.25 +\n",
        "        (df['employment_length'] / 40) * 0.05 +\n",
        "        (df['credit_history_length'] / 40) * 0.05\n",
        "    )\n",
        "\n",
        "    # Default probability (inverse of risk score with adjustment for realistic rates)\n",
        "    base_default_prob = 1 - risk_score.clip(0, 1)\n",
        "    # Scale down to achieve ~15-20% default rate\n",
        "    df['default_probability'] = (base_default_prob * 0.35).clip(0, 0.95)\n",
        "\n",
        "    # Generate actual default outcomes\n",
        "    df['defaults'] = (np.random.random(n_samples) < df['default_probability']).astype(int)\n",
        "\n",
        "    return df\n",
        "\n",
        "# Generate data\n",
        "loan_data = generate_loan_data(10000)\n",
        "print(f\"Generated {len(loan_data)} loan applications\")\n",
        "print(f\"\\nDefault rate: {loan_data['defaults'].mean():.2%}\")\n",
        "print(\"\\nFirst few rows:\")\n",
        "print(loan_data.head())\n",
        "print(\"\\nData statistics:\")\n",
        "print(loan_data.describe())"
      ]
    },
    {
      "cell_type": "code",
      "execution_count": 4,
      "metadata": {
        "colab": {
          "base_uri": "https://localhost:8080/",
          "height": 1000
        },
        "id": "2eKE90oa-d6Y",
        "outputId": "54804064-5270-42ae-859b-0d8426553b59"
      },
      "outputs": [
        {
          "data": {
            "image/png": "[encoded data removed]",
            "text/plain": [
              "<Figure size 1500x1000 with 7 Axes>"
            ]
          },
          "metadata": {},
          "output_type": "display_data"
        }
      ],
      "source": [
        "# =============================================================================\n",
        "# CELL 4: Data Visualization\n",
        "# =============================================================================\n",
        "\n",
        "# Visualize the data\n",
        "fig, axes = plt.subplots(2, 3, figsize=(15, 10))\n",
        "\n",
        "# Income distribution\n",
        "axes[0, 0].hist(loan_data['income'], bins=50, edgecolor='black', alpha=0.7)\n",
        "axes[0, 0].set_title('Income Distribution')\n",
        "axes[0, 0].set_xlabel('Income ($)')\n",
        "axes[0, 0].set_ylabel('Frequency')\n",
        "\n",
        "# Credit score distribution\n",
        "axes[0, 1].hist(loan_data['credit_score'], bins=50, edgecolor='black', alpha=0.7, color='orange')\n",
        "axes[0, 1].set_title('Credit Score Distribution')\n",
        "axes[0, 1].set_xlabel('Credit Score')\n",
        "axes[0, 1].set_ylabel('Frequency')\n",
        "\n",
        "# Debt to income ratio\n",
        "axes[0, 2].hist(loan_data['debt_to_income'], bins=50, edgecolor='black', alpha=0.7, color='green')\n",
        "axes[0, 2].set_title('Debt-to-Income Ratio Distribution')\n",
        "axes[0, 2].set_xlabel('Debt-to-Income Ratio')\n",
        "axes[0, 2].set_ylabel('Frequency')\n",
        "\n",
        "# Loan amount distribution\n",
        "axes[1, 0].hist(loan_data['loan_amount'], bins=50, edgecolor='black', alpha=0.7, color='red')\n",
        "axes[1, 0].set_title('Loan Amount Distribution')\n",
        "axes[1, 0].set_xlabel('Loan Amount ($)')\n",
        "axes[1, 0].set_ylabel('Frequency')\n",
        "\n",
        "# Default rate by credit score\n",
        "loan_data['credit_score_bin'] = pd.cut(loan_data['credit_score'], bins=10)\n",
        "default_by_credit = loan_data.groupby('credit_score_bin')['defaults'].mean()\n",
        "axes[1, 1].bar(range(len(default_by_credit)), default_by_credit.values, alpha=0.7, color='purple')\n",
        "axes[1, 1].set_title('Default Rate by Credit Score')\n",
        "axes[1, 1].set_xlabel('Credit Score Bin')\n",
        "axes[1, 1].set_ylabel('Default Rate')\n",
        "axes[1, 1].tick_params(axis='x', rotation=45, labelsize=8)\n",
        "\n",
        "# Correlation heatmap\n",
        "correlation_cols = ['income', 'credit_score', 'debt_to_income', 'loan_amount', 'defaults']\n",
        "correlation = loan_data[correlation_cols].corr()\n",
        "sns.heatmap(correlation, annot=True, fmt='.2f', cmap='coolwarm', ax=axes[1, 2])\n",
        "axes[1, 2].set_title('Feature Correlation')\n",
        "\n",
        "plt.tight_layout()\n",
        "plt.show()"
      ]
    },
    {
      "cell_type": "code",
      "execution_count": 5,
      "metadata": {
        "id": "bgCqksRT-uAD"
      },
      "outputs": [],
      "source": [
        "# =============================================================================\n",
        "# CELL 5: Define the Loan Approval Environment (IMPROVED VERSION)\n",
        "# =============================================================================\n",
        "# Changes:\n",
        "# - Action multipliers: [0.0, 0.5, 0.75, 1.0] for better balance\n",
        "# - Reduced rejection rewards to discourage over-conservatism\n",
        "# - Increased approval rewards to encourage profitable loans\n",
        "\n",
        "class LoanApprovalEnvironment:\n",
        "    \"\"\"\n",
        "    Custom environment for loan approval decisions\n",
        "\n",
        "    State: [income, credit_score, employment_length, debt_to_income,\n",
        "            loan_amount, age, num_credit_lines, credit_history_length]\n",
        "\n",
        "    Actions:\n",
        "        0: Reject loan (0%)\n",
        "        1: Approve with half amount (50% of requested)\n",
        "        2: Approve with reduced amount (75% of requested)\n",
        "        3: Approve with full amount (100% of requested)\n",
        "\n",
        "    Rewards:\n",
        "        - Successful repayment: Higher profit reward\n",
        "        - Default: Loss of loan amount\n",
        "        - Rejection: Smaller opportunity cost\n",
        "    \"\"\"\n",
        "\n",
        "    def __init__(self, loan_data):\n",
        "        self.data = loan_data.copy()\n",
        "        self.n_actions = 4\n",
        "        self.n_features = 8\n",
        "        self.current_idx = 0\n",
        "        self.scaler = StandardScaler()\n",
        "\n",
        "        # Fit scaler on all data\n",
        "        feature_cols = ['income', 'credit_score', 'employment_length', 'debt_to_income',\n",
        "                       'loan_amount', 'age', 'num_credit_lines', 'credit_history_length']\n",
        "        self.data[feature_cols] = self.scaler.fit_transform(self.data[feature_cols])\n",
        "\n",
        "        # Interest rate (annual)\n",
        "        self.interest_rate = 0.15\n",
        "        self.loan_term = 3  # years\n",
        "\n",
        "        # Shuffle data\n",
        "        self.data = self.data.sample(frac=1).reset_index(drop=True)\n",
        "\n",
        "    def reset(self):\n",
        "        \"\"\"Reset to first applicant\"\"\"\n",
        "        self.current_idx = 0\n",
        "        return self._get_state()\n",
        "\n",
        "    def _get_state(self):\n",
        "        \"\"\"Get current applicant's features\"\"\"\n",
        "        if self.current_idx >= len(self.data):\n",
        "            return None\n",
        "\n",
        "        row = self.data.iloc[self.current_idx]\n",
        "        state = np.array([\n",
        "            row['income'],\n",
        "            row['credit_score'],\n",
        "            row['employment_length'],\n",
        "            row['debt_to_income'],\n",
        "            row['loan_amount'],\n",
        "            row['age'],\n",
        "            row['num_credit_lines'],\n",
        "            row['credit_history_length']\n",
        "        ], dtype=np.float32)\n",
        "\n",
        "        return state\n",
        "\n",
        "    def step(self, action):\n",
        "        \"\"\"\n",
        "        Take an action and return next state, reward, done, info\n",
        "        \"\"\"\n",
        "        row = self.data.iloc[self.current_idx]\n",
        "\n",
        "        # Get actual loan amount (denormalize)\n",
        "        loan_amount_idx = 4\n",
        "        actual_loan_amount = row['loan_amount'] * self.scaler.scale_[loan_amount_idx] + \\\n",
        "                           self.scaler.mean_[loan_amount_idx]\n",
        "\n",
        "        #Better balanced action multipliers\n",
        "        action_multipliers = [0.0, 0.5, 0.75, 1.0]  # reject, 50%, 75%, 100%\n",
        "        approved_amount = actual_loan_amount * action_multipliers[action]\n",
        "\n",
        "        # Calculate reward\n",
        "        reward = 0\n",
        "        info = {}\n",
        "\n",
        "        if action == 0:  # Reject\n",
        "            # FIXED: Minimal penalty/reward to avoid over-conservatism\n",
        "            if row['defaults'] == 0:\n",
        "                reward = -5  # Small opportunity cost for rejecting good applicant\n",
        "            else:\n",
        "                reward = 2   # Small reward for correctly rejecting risky applicant\n",
        "            info['decision'] = 'rejected'\n",
        "            info['profit'] = 0\n",
        "\n",
        "        else:  # Approve (with some amount)\n",
        "            info['decision'] = 'approved'\n",
        "            info['amount'] = approved_amount\n",
        "\n",
        "            if row['defaults'] == 1:  # Default occurs\n",
        "                # Lose the entire approved amount - this should hurt!\n",
        "                reward = -approved_amount / 1000  # FIXED: Better scaling\n",
        "                info['profit'] = -approved_amount\n",
        "            else:  # Successful repayment\n",
        "                # FIXED: Reward proportional to profit earned\n",
        "                total_interest = approved_amount * self.interest_rate * self.loan_term\n",
        "                reward = total_interest / 1000  # FIXED: Better scaling (profit matters more)\n",
        "                info['profit'] = total_interest\n",
        "\n",
        "        # Move to next applicant\n",
        "        self.current_idx += 1\n",
        "        done = self.current_idx >= len(self.data)\n",
        "        next_state = self._get_state() if not done else None\n",
        "\n",
        "        info['default'] = row['defaults']\n",
        "        info['default_prob'] = row['default_probability']\n",
        "\n",
        "        return next_state, reward, done, info\n",
        "\n",
        "    def get_state_dim(self):\n",
        "        return self.n_features\n",
        "\n",
        "    def get_action_dim(self):\n",
        "        return self.n_actions"
      ]
    },
    {
      "cell_type": "code",
      "execution_count": 6,
      "metadata": {
        "colab": {
          "base_uri": "https://localhost:8080/"
        },
        "id": "FWm4vcmo-yJc",
        "outputId": "5a49c7d6-7b25-4e8f-d50d-3c62a03ef855"
      },
      "outputs": [
        {
          "name": "stdout",
          "output_type": "stream",
          "text": [
            "Initial state shape: (8,)\n",
            "State values: [-0.6808152  -1.7381171  -0.36222208  0.47980964  0.36507985 -0.97478366\n",
            " -0.9084312  -0.39286712]\n",
            "\n",
            "Taking random actions...\n",
            "\n",
            "Step 1:\n",
            "  Action: Approve 75%\n",
            "  Reward: -28.25\n",
            "  Decision: approved\n",
            "  Default: 1\n",
            "  Profit: $-28251.57\n",
            "\n",
            "Step 2:\n",
            "  Action: Approve 50%\n",
            "  Reward: 10.24\n",
            "  Decision: approved\n",
            "  Default: 0\n",
            "  Profit: $10238.61\n",
            "\n",
            "Step 3:\n",
            "  Action: Approve 50%\n",
            "  Reward: 9.09\n",
            "  Decision: approved\n",
            "  Default: 0\n",
            "  Profit: $9088.78\n",
            "\n",
            "Step 4:\n",
            "  Action: Reject\n",
            "  Reward: -5.00\n",
            "  Decision: rejected\n",
            "  Default: 0\n",
            "  Profit: $0.00\n",
            "\n",
            "Step 5:\n",
            "  Action: Approve 100%\n",
            "  Reward: -21.38\n",
            "  Decision: approved\n",
            "  Default: 1\n",
            "  Profit: $-21375.00\n",
            "\n"
          ]
        }
      ],
      "source": [
        "# =============================================================================\n",
        "# CELL 6: Test the Environment (IMPROVED VERSION)\n",
        "# =============================================================================\n",
        "# Updated to show new action names: [Reject, 50%, 75%, 100%]\n",
        "\n",
        "# Test the environment\n",
        "test_env = LoanApprovalEnvironment(loan_data)\n",
        "state = test_env.reset()\n",
        "\n",
        "print(\"Initial state shape:\", state.shape)\n",
        "print(\"State values:\", state)\n",
        "print(\"\\nTaking random actions...\\n\")\n",
        "\n",
        "# Updated action names\n",
        "action_names = ['Reject', 'Approve 50%', 'Approve 75%', 'Approve 100%']\n",
        "\n",
        "for i in range(5):\n",
        "    action = np.random.randint(0, 4)\n",
        "    next_state, reward, done, info = test_env.step(action)\n",
        "\n",
        "    print(f\"Step {i+1}:\")\n",
        "    print(f\"  Action: {action_names[action]}\")\n",
        "    print(f\"  Reward: {reward:.2f}\")\n",
        "    print(f\"  Decision: {info['decision']}\")\n",
        "    print(f\"  Default: {info['default']}\")\n",
        "    print(f\"  Profit: ${info['profit']:.2f}\" if 'amount' in info else \"  Profit: $0.00\")\n",
        "    print()\n",
        "\n",
        "    if done:\n",
        "        break"
      ]
    },
    {
      "cell_type": "code",
      "execution_count": 7,
      "metadata": {
        "id": "6_RLbppA-_T1"
      },
      "outputs": [],
      "source": [
        "# =============================================================================\n",
        "# CELL 7: Implement Q-Learning Agent\n",
        "# =============================================================================\n",
        "\n",
        "class QLearningAgent:\n",
        "    \"\"\"\n",
        "    Tabular Q-Learning agent with state discretization\n",
        "    \"\"\"\n",
        "\n",
        "    def __init__(self, state_dim, action_dim, n_bins=5, learning_rate=0.1,\n",
        "                 gamma=0.95, epsilon=1.0, epsilon_decay=0.995, epsilon_min=0.01):\n",
        "        self.state_dim = state_dim\n",
        "        self.action_dim = action_dim\n",
        "        self.n_bins = n_bins\n",
        "        self.lr = learning_rate\n",
        "        self.gamma = gamma\n",
        "        self.epsilon = epsilon\n",
        "        self.epsilon_decay = epsilon_decay\n",
        "        self.epsilon_min = epsilon_min\n",
        "\n",
        "        # Initialize Q-table\n",
        "        self.q_table = {}\n",
        "\n",
        "    def discretize_state(self, state):\n",
        "        \"\"\"\n",
        "        Discretize continuous state into bins\n",
        "        \"\"\"\n",
        "        discretized = []\n",
        "        for i, val in enumerate(state):\n",
        "            # Bin into n_bins categories based on value\n",
        "            bin_idx = int(np.clip((val + 3) / 6 * self.n_bins, 0, self.n_bins - 1))\n",
        "            discretized.append(bin_idx)\n",
        "        return tuple(discretized)\n",
        "\n",
        "    def get_q_value(self, state, action):\n",
        "        \"\"\"\n",
        "        Get Q-value for state-action pair\n",
        "        \"\"\"\n",
        "        state_key = self.discretize_state(state)\n",
        "        if state_key not in self.q_table:\n",
        "            self.q_table[state_key] = np.zeros(self.action_dim)\n",
        "        return self.q_table[state_key][action]\n",
        "\n",
        "    def get_action(self, state, training=True):\n",
        "        \"\"\"\n",
        "        Choose action using epsilon-greedy policy\n",
        "        \"\"\"\n",
        "        if training and np.random.random() < self.epsilon:\n",
        "            return np.random.randint(0, self.action_dim)\n",
        "\n",
        "        state_key = self.discretize_state(state)\n",
        "        if state_key not in self.q_table:\n",
        "            self.q_table[state_key] = np.zeros(self.action_dim)\n",
        "\n",
        "        return np.argmax(self.q_table[state_key])\n",
        "\n",
        "    def update(self, state, action, reward, next_state, done):\n",
        "        \"\"\"\n",
        "        Update Q-value using Q-learning update rule\n",
        "        \"\"\"\n",
        "        state_key = self.discretize_state(state)\n",
        "        if state_key not in self.q_table:\n",
        "            self.q_table[state_key] = np.zeros(self.action_dim)\n",
        "\n",
        "        current_q = self.q_table[state_key][action]\n",
        "\n",
        "        if done:\n",
        "            target_q = reward\n",
        "        else:\n",
        "            next_state_key = self.discretize_state(next_state)\n",
        "            if next_state_key not in self.q_table:\n",
        "                self.q_table[next_state_key] = np.zeros(self.action_dim)\n",
        "            max_next_q = np.max(self.q_table[next_state_key])\n",
        "            target_q = reward + self.gamma * max_next_q\n",
        "\n",
        "        # Q-learning update\n",
        "        self.q_table[state_key][action] = current_q + self.lr * (target_q - current_q)\n",
        "\n",
        "    def decay_epsilon(self):\n",
        "        \"\"\"\n",
        "        Decay exploration rate\n",
        "        \"\"\"\n",
        "        self.epsilon = max(self.epsilon_min, self.epsilon * self.epsilon_decay)"
      ]
    },
    {
      "cell_type": "code",
      "execution_count": 8,
      "metadata": {
        "id": "gV-qZ_vY_CE9"
      },
      "outputs": [],
      "source": [
        "# =============================================================================\n",
        "# CELL 8: Implement Deep Q-Network (DQN) Agent\n",
        "# =============================================================================\n",
        "\n",
        "class DQNNetwork(nn.Module):\n",
        "    \"\"\"\n",
        "    Neural network for DQN\n",
        "    \"\"\"\n",
        "    def __init__(self, state_dim, action_dim, hidden_dims=[128, 64, 32]):\n",
        "        super(DQNNetwork, self).__init__()\n",
        "\n",
        "        layers = []\n",
        "        input_dim = state_dim\n",
        "\n",
        "        for hidden_dim in hidden_dims:\n",
        "            layers.append(nn.Linear(input_dim, hidden_dim))\n",
        "            layers.append(nn.ReLU())\n",
        "            layers.append(nn.Dropout(0.2))\n",
        "            input_dim = hidden_dim\n",
        "\n",
        "        layers.append(nn.Linear(input_dim, action_dim))\n",
        "\n",
        "        self.network = nn.Sequential(*layers)\n",
        "\n",
        "    def forward(self, x):\n",
        "        return self.network(x)\n",
        "\n",
        "\n",
        "class ReplayBuffer:\n",
        "    \"\"\"\n",
        "    Experience replay buffer for DQN\n",
        "    \"\"\"\n",
        "    def __init__(self, capacity=10000):\n",
        "        self.buffer = deque(maxlen=capacity)\n",
        "        self.experience = namedtuple('Experience',\n",
        "                                    ['state', 'action', 'reward', 'next_state', 'done'])\n",
        "\n",
        "    def add(self, state, action, reward, next_state, done):\n",
        "        exp = self.experience(state, action, reward, next_state, done)\n",
        "        self.buffer.append(exp)\n",
        "\n",
        "    def sample(self, batch_size):\n",
        "        experiences = random.sample(self.buffer, batch_size)\n",
        "\n",
        "        states = torch.FloatTensor([e.state for e in experiences])\n",
        "        actions = torch.LongTensor([e.action for e in experiences])\n",
        "        rewards = torch.FloatTensor([e.reward for e in experiences])\n",
        "        next_states = torch.FloatTensor([e.next_state if e.next_state is not None\n",
        "                                         else np.zeros_like(e.state) for e in experiences])\n",
        "        dones = torch.FloatTensor([e.done for e in experiences])\n",
        "\n",
        "        return states, actions, rewards, next_states, dones\n",
        "\n",
        "    def __len__(self):\n",
        "        return len(self.buffer)\n",
        "\n",
        "\n",
        "class DQNAgent:\n",
        "    \"\"\"\n",
        "    Deep Q-Network agent with experience replay and target network\n",
        "    \"\"\"\n",
        "    def __init__(self, state_dim, action_dim, learning_rate=0.001, gamma=0.95,\n",
        "                 epsilon=1.0, epsilon_decay=0.995, epsilon_min=0.01,\n",
        "                 buffer_size=10000, batch_size=64, target_update_freq=10):\n",
        "        self.state_dim = state_dim\n",
        "        self.action_dim = action_dim\n",
        "        self.gamma = gamma\n",
        "        self.epsilon = epsilon\n",
        "        self.epsilon_decay = epsilon_decay\n",
        "        self.epsilon_min = epsilon_min\n",
        "        self.batch_size = batch_size\n",
        "        self.target_update_freq = target_update_freq\n",
        "        self.update_counter = 0\n",
        "\n",
        "        # Networks\n",
        "        self.policy_net = DQNNetwork(state_dim, action_dim)\n",
        "        self.target_net = DQNNetwork(state_dim, action_dim)\n",
        "        self.target_net.load_state_dict(self.policy_net.state_dict())\n",
        "        self.target_net.eval()\n",
        "\n",
        "        # Optimizer\n",
        "        self.optimizer = optim.Adam(self.policy_net.parameters(), lr=learning_rate)\n",
        "        self.loss_fn = nn.MSELoss()\n",
        "\n",
        "        # Replay buffer\n",
        "        self.replay_buffer = ReplayBuffer(buffer_size)\n",
        "\n",
        "    def get_action(self, state, training=True):\n",
        "        \"\"\"\n",
        "        Choose action using epsilon-greedy policy\n",
        "        \"\"\"\n",
        "        if training and np.random.random() < self.epsilon:\n",
        "            return np.random.randint(0, self.action_dim)\n",
        "\n",
        "        with torch.no_grad():\n",
        "            state_tensor = torch.FloatTensor(state).unsqueeze(0)\n",
        "            q_values = self.policy_net(state_tensor)\n",
        "            return q_values.argmax().item()\n",
        "\n",
        "    def update(self, state, action, reward, next_state, done):\n",
        "        \"\"\"\n",
        "        Store experience and train on batch from replay buffer\n",
        "        \"\"\"\n",
        "        # Store experience\n",
        "        self.replay_buffer.add(state, action, reward, next_state, done)\n",
        "\n",
        "        # Train if enough samples\n",
        "        if len(self.replay_buffer) < self.batch_size:\n",
        "            return\n",
        "\n",
        "        # Sample batch\n",
        "        states, actions, rewards, next_states, dones = self.replay_buffer.sample(self.batch_size)\n",
        "\n",
        "        # Compute current Q values\n",
        "        current_q_values = self.policy_net(states).gather(1, actions.unsqueeze(1)).squeeze(1)\n",
        "\n",
        "        # Compute target Q values\n",
        "        with torch.no_grad():\n",
        "            next_q_values = self.target_net(next_states).max(1)[0]\n",
        "            target_q_values = rewards + (1 - dones) * self.gamma * next_q_values\n",
        "\n",
        "        # Compute loss and update\n",
        "        loss = self.loss_fn(current_q_values, target_q_values)\n",
        "\n",
        "        self.optimizer.zero_grad()\n",
        "        loss.backward()\n",
        "        self.optimizer.step()\n",
        "\n",
        "        # Update target network\n",
        "        self.update_counter += 1\n",
        "        if self.update_counter % self.target_update_freq == 0:\n",
        "            self.target_net.load_state_dict(self.policy_net.state_dict())\n",
        "\n",
        "    def decay_epsilon(self):\n",
        "        \"\"\"\n",
        "        Decay exploration rate\n",
        "        \"\"\"\n",
        "        self.epsilon = max(self.epsilon_min, self.epsilon * self.epsilon_decay)"
      ]
    },
    {
      "cell_type": "code",
      "execution_count": 9,
      "metadata": {
        "id": "450W_NnQ_GOH"
      },
      "outputs": [],
      "source": [
        "# =============================================================================\n",
        "# CELL 9: Training Function\n",
        "# =============================================================================\n",
        "\n",
        "def train_agent(agent, env, n_episodes=50, agent_name=\"Agent\"):\n",
        "    \"\"\"\n",
        "    Train an RL agent on the loan approval environment\n",
        "    \"\"\"\n",
        "    episode_rewards = []\n",
        "    episode_profits = []\n",
        "    episode_approvals = []\n",
        "    episode_defaults = []\n",
        "\n",
        "    print(f\"\\nTraining {agent_name}...\\n\")\n",
        "\n",
        "    for episode in tqdm(range(n_episodes)):\n",
        "        state = env.reset()\n",
        "        total_reward = 0\n",
        "        total_profit = 0\n",
        "        n_approvals = 0\n",
        "        n_defaults = 0\n",
        "\n",
        "        done = False\n",
        "        while not done:\n",
        "            action = agent.get_action(state, training=True)\n",
        "            next_state, reward, done, info = env.step(action)\n",
        "\n",
        "            agent.update(state, action, reward, next_state, done)\n",
        "\n",
        "            total_reward += reward\n",
        "            total_profit += info['profit']\n",
        "\n",
        "            if info['decision'] == 'approved':\n",
        "                n_approvals += 1\n",
        "                if info['default'] == 1:\n",
        "                    n_defaults += 1\n",
        "\n",
        "            state = next_state\n",
        "\n",
        "        agent.decay_epsilon()\n",
        "\n",
        "        episode_rewards.append(total_reward)\n",
        "        episode_profits.append(total_profit)\n",
        "        episode_approvals.append(n_approvals)\n",
        "        episode_defaults.append(n_defaults)\n",
        "\n",
        "        if (episode + 1) % 10 == 0:\n",
        "            avg_reward = np.mean(episode_rewards[-10:])\n",
        "            avg_profit = np.mean(episode_profits[-10:])\n",
        "            avg_approvals = np.mean(episode_approvals[-10:])\n",
        "            print(f\"Episode {episode+1}/{n_episodes} - \"\n",
        "                  f\"Avg Reward: {avg_reward:.2f}, \"\n",
        "                  f\"Avg Profit: ${avg_profit:.2f}, \"\n",
        "                  f\"Avg Approvals: {avg_approvals:.1f}, \"\n",
        "                  f\"Epsilon: {agent.epsilon:.3f}\")\n",
        "\n",
        "    training_history = {\n",
        "        'rewards': episode_rewards,\n",
        "        'profits': episode_profits,\n",
        "        'approvals': episode_approvals,\n",
        "        'defaults': episode_defaults\n",
        "    }\n",
        "\n",
        "    return agent, training_history"
      ]
    },
    {
      "cell_type": "code",
      "execution_count": 10,
      "metadata": {
        "id": "V0wt_Oap_KFs"
      },
      "outputs": [],
      "source": [
        "# =============================================================================\n",
        "# CELL 10: Evaluation Function\n",
        "# =============================================================================\n",
        "\n",
        "def evaluate_agent(agent, env, agent_name=\"Agent\"):\n",
        "    \"\"\"\n",
        "    Evaluate trained agent on environment\n",
        "    \"\"\"\n",
        "    state = env.reset()\n",
        "    total_reward = 0\n",
        "    total_profit = 0\n",
        "    n_approvals = 0\n",
        "    n_rejections = 0\n",
        "    n_defaults = 0\n",
        "    n_correct_approvals = 0\n",
        "    n_correct_rejections = 0\n",
        "\n",
        "    decisions = []\n",
        "\n",
        "    done = False\n",
        "    while not done:\n",
        "        action = agent.get_action(state, training=False)\n",
        "        next_state, reward, done, info = env.step(action)\n",
        "\n",
        "        total_reward += reward\n",
        "        total_profit += info['profit']\n",
        "\n",
        "        decisions.append({\n",
        "            'action': action,\n",
        "            'decision': info['decision'],\n",
        "            'default': info['default'],\n",
        "            'profit': info['profit'],\n",
        "            'reward': reward\n",
        "        })\n",
        "\n",
        "        if info['decision'] == 'approved':\n",
        "            n_approvals += 1\n",
        "            if info['default'] == 0:\n",
        "                n_correct_approvals += 1\n",
        "            else:\n",
        "                n_defaults += 1\n",
        "        else:\n",
        "            n_rejections += 1\n",
        "            if info['default'] == 1:\n",
        "                n_correct_rejections += 1\n",
        "\n",
        "        state = next_state\n",
        "\n",
        "    print(f\"\\n{'='*60}\")\n",
        "    print(f\"{agent_name} Evaluation Results\")\n",
        "    print(f\"{'='*60}\")\n",
        "    print(f\"Total Reward: {total_reward:.2f}\")\n",
        "    print(f\"Total Profit: ${total_profit:.2f}\")\n",
        "    print(f\"Number of Approvals: {n_approvals} ({n_approvals/len(decisions)*100:.1f}%)\")\n",
        "    print(f\"Number of Rejections: {n_rejections} ({n_rejections/len(decisions)*100:.1f}%)\")\n",
        "    print(f\"Number of Defaults (among approved): {n_defaults} ({n_defaults/max(n_approvals, 1)*100:.1f}%)\")\n",
        "    print(f\"Correct Approvals (no default): {n_correct_approvals}\")\n",
        "    print(f\"Correct Rejections (would default): {n_correct_rejections}\")\n",
        "    print(f\"Approval Accuracy: {n_correct_approvals/max(n_approvals, 1)*100:.1f}%\")\n",
        "    print(f\"{'='*60}\\n\")\n",
        "\n",
        "    results = {\n",
        "        'total_reward': total_reward,\n",
        "        'total_profit': total_profit,\n",
        "        'n_approvals': n_approvals,\n",
        "        'n_rejections': n_rejections,\n",
        "        'n_defaults': n_defaults,\n",
        "        'n_correct_approvals': n_correct_approvals,\n",
        "        'n_correct_rejections': n_correct_rejections,\n",
        "        'decisions': decisions\n",
        "    }\n",
        "\n",
        "    return results"
      ]
    },
    {
      "cell_type": "code",
      "execution_count": 11,
      "metadata": {
        "colab": {
          "base_uri": "https://localhost:8080/"
        },
        "id": "MZlKyvGG_Nhy",
        "outputId": "74288ed7-c9f3-48d4-8c61-b6589fba69a2"
      },
      "outputs": [
        {
          "name": "stdout",
          "output_type": "stream",
          "text": [
            "Training set size: 8000\n",
            "Testing set size: 2000\n"
          ]
        }
      ],
      "source": [
        "# =============================================================================\n",
        "# CELL 11: Split Data for Training and Testing\n",
        "# =============================================================================\n",
        "\n",
        "# Split data into training and testing sets\n",
        "train_data, test_data = train_test_split(loan_data, test_size=0.2, random_state=42)\n",
        "\n",
        "print(f\"Training set size: {len(train_data)}\")\n",
        "print(f\"Testing set size: {len(test_data)}\")\n",
        "\n",
        "# Create environments\n",
        "train_env = LoanApprovalEnvironment(train_data)\n",
        "test_env = LoanApprovalEnvironment(test_data)"
      ]
    },
    {
      "cell_type": "code",
      "execution_count": 12,
      "metadata": {
        "colab": {
          "base_uri": "https://localhost:8080/"
        },
        "id": "vnVX2NKH_QA1",
        "outputId": "065cba25-f7af-4c6c-b4b2-a2b290155517"
      },
      "outputs": [
        {
          "name": "stdout",
          "output_type": "stream",
          "text": [
            "Training with FIXED hyperparameters:\n",
            "- FIXED: 500 episodes (was 100) - RL needs hundreds of episodes!\n",
            "- More bins: 12 (was 8)\n",
            "- Adjusted epsilon decay: 0.9995 (for longer training)\n",
            "- Higher LR: 0.15 (was 0.1)\n",
            "\n",
            "Training Q-Learning...\n",
            "\n"
          ]
        },
        {
          "name": "stderr",
          "output_type": "stream",
          "text": [
            "  2%|▏         | 10/500 [00:15<12:05,  1.48s/it]"
          ]
        },
        {
          "name": "stdout",
          "output_type": "stream",
          "text": [
            "Episode 10/500 - Avg Reward: 27201.07, Avg Profit: $35297771.07, Avg Approvals: 6004.9, Epsilon: 0.995\n"
          ]
        },
        {
          "name": "stderr",
          "output_type": "stream",
          "text": [
            "  4%|▍         | 20/500 [00:29<11:39,  1.46s/it]"
          ]
        },
        {
          "name": "stdout",
          "output_type": "stream",
          "text": [
            "Episode 20/500 - Avg Reward: 27197.28, Avg Profit: $35246684.43, Avg Approvals: 6017.3, Epsilon: 0.990\n"
          ]
        },
        {
          "name": "stderr",
          "output_type": "stream",
          "text": [
            "  6%|▌         | 30/500 [00:44<11:15,  1.44s/it]"
          ]
        },
        {
          "name": "stdout",
          "output_type": "stream",
          "text": [
            "Episode 30/500 - Avg Reward: 27798.18, Avg Profit: $35811376.66, Avg Approvals: 6007.6, Epsilon: 0.985\n"
          ]
        },
        {
          "name": "stderr",
          "output_type": "stream",
          "text": [
            "  8%|▊         | 40/500 [00:58<11:08,  1.45s/it]"
          ]
        },
        {
          "name": "stdout",
          "output_type": "stream",
          "text": [
            "Episode 40/500 - Avg Reward: 27966.60, Avg Profit: $35991500.65, Avg Approvals: 6001.9, Epsilon: 0.980\n"
          ]
        },
        {
          "name": "stderr",
          "output_type": "stream",
          "text": [
            " 10%|█         | 50/500 [01:13<10:46,  1.44s/it]"
          ]
        },
        {
          "name": "stdout",
          "output_type": "stream",
          "text": [
            "Episode 50/500 - Avg Reward: 28427.89, Avg Profit: $36322092.66, Avg Approvals: 6018.8, Epsilon: 0.975\n"
          ]
        },
        {
          "name": "stderr",
          "output_type": "stream",
          "text": [
            " 12%|█▏        | 60/500 [01:27<10:25,  1.42s/it]"
          ]
        },
        {
          "name": "stdout",
          "output_type": "stream",
          "text": [
            "Episode 60/500 - Avg Reward: 28594.72, Avg Profit: $36445517.68, Avg Approvals: 6040.5, Epsilon: 0.970\n"
          ]
        },
        {
          "name": "stderr",
          "output_type": "stream",
          "text": [
            " 14%|█▍        | 70/500 [01:42<10:29,  1.46s/it]"
          ]
        },
        {
          "name": "stdout",
          "output_type": "stream",
          "text": [
            "Episode 70/500 - Avg Reward: 29079.58, Avg Profit: $36872476.46, Avg Approvals: 6029.4, Epsilon: 0.966\n"
          ]
        },
        {
          "name": "stderr",
          "output_type": "stream",
          "text": [
            " 16%|█▌        | 80/500 [01:56<10:02,  1.43s/it]"
          ]
        },
        {
          "name": "stdout",
          "output_type": "stream",
          "text": [
            "Episode 80/500 - Avg Reward: 29656.25, Avg Profit: $37310351.34, Avg Approvals: 6049.6, Epsilon: 0.961\n"
          ]
        },
        {
          "name": "stderr",
          "output_type": "stream",
          "text": [
            " 18%|█▊        | 90/500 [02:10<09:48,  1.44s/it]"
          ]
        },
        {
          "name": "stdout",
          "output_type": "stream",
          "text": [
            "Episode 90/500 - Avg Reward: 29694.75, Avg Profit: $37349945.65, Avg Approvals: 6055.4, Epsilon: 0.956\n"
          ]
        },
        {
          "name": "stderr",
          "output_type": "stream",
          "text": [
            " 20%|██        | 100/500 [02:25<09:35,  1.44s/it]"
          ]
        },
        {
          "name": "stdout",
          "output_type": "stream",
          "text": [
            "Episode 100/500 - Avg Reward: 29960.63, Avg Profit: $37617231.51, Avg Approvals: 6051.9, Epsilon: 0.951\n"
          ]
        },
        {
          "name": "stderr",
          "output_type": "stream",
          "text": [
            " 22%|██▏       | 110/500 [02:39<09:20,  1.44s/it]"
          ]
        },
        {
          "name": "stdout",
          "output_type": "stream",
          "text": [
            "Episode 110/500 - Avg Reward: 30370.87, Avg Profit: $37910574.61, Avg Approvals: 6060.3, Epsilon: 0.946\n"
          ]
        },
        {
          "name": "stderr",
          "output_type": "stream",
          "text": [
            " 24%|██▍       | 120/500 [02:54<09:06,  1.44s/it]"
          ]
        },
        {
          "name": "stdout",
          "output_type": "stream",
          "text": [
            "Episode 120/500 - Avg Reward: 30717.31, Avg Profit: $38254212.51, Avg Approvals: 6055.4, Epsilon: 0.942\n"
          ]
        },
        {
          "name": "stderr",
          "output_type": "stream",
          "text": [
            " 26%|██▌       | 130/500 [03:08<08:53,  1.44s/it]"
          ]
        },
        {
          "name": "stdout",
          "output_type": "stream",
          "text": [
            "Episode 130/500 - Avg Reward: 30794.28, Avg Profit: $38312083.94, Avg Approvals: 6063.0, Epsilon: 0.937\n"
          ]
        },
        {
          "name": "stderr",
          "output_type": "stream",
          "text": [
            " 28%|██▊       | 140/500 [03:23<08:39,  1.44s/it]"
          ]
        },
        {
          "name": "stdout",
          "output_type": "stream",
          "text": [
            "Episode 140/500 - Avg Reward: 31146.17, Avg Profit: $38570068.39, Avg Approvals: 6078.7, Epsilon: 0.932\n"
          ]
        },
        {
          "name": "stderr",
          "output_type": "stream",
          "text": [
            " 30%|███       | 150/500 [03:37<08:58,  1.54s/it]"
          ]
        },
        {
          "name": "stdout",
          "output_type": "stream",
          "text": [
            "Episode 150/500 - Avg Reward: 31402.91, Avg Profit: $38896209.70, Avg Approvals: 6051.8, Epsilon: 0.928\n"
          ]
        },
        {
          "name": "stderr",
          "output_type": "stream",
          "text": [
            " 32%|███▏      | 160/500 [03:52<08:15,  1.46s/it]"
          ]
        },
        {
          "name": "stdout",
          "output_type": "stream",
          "text": [
            "Episode 160/500 - Avg Reward: 31677.14, Avg Profit: $39057836.14, Avg Approvals: 6073.2, Epsilon: 0.923\n"
          ]
        },
        {
          "name": "stderr",
          "output_type": "stream",
          "text": [
            " 34%|███▍      | 170/500 [04:07<07:53,  1.43s/it]"
          ]
        },
        {
          "name": "stdout",
          "output_type": "stream",
          "text": [
            "Episode 170/500 - Avg Reward: 32158.96, Avg Profit: $39470962.34, Avg Approvals: 6086.1, Epsilon: 0.918\n"
          ]
        },
        {
          "name": "stderr",
          "output_type": "stream",
          "text": [
            " 36%|███▌      | 180/500 [04:21<07:50,  1.47s/it]"
          ]
        },
        {
          "name": "stdout",
          "output_type": "stream",
          "text": [
            "Episode 180/500 - Avg Reward: 32409.88, Avg Profit: $39801583.83, Avg Approvals: 6045.1, Epsilon: 0.914\n"
          ]
        },
        {
          "name": "stderr",
          "output_type": "stream",
          "text": [
            " 38%|███▊      | 190/500 [04:36<07:24,  1.44s/it]"
          ]
        },
        {
          "name": "stdout",
          "output_type": "stream",
          "text": [
            "Episode 190/500 - Avg Reward: 32403.99, Avg Profit: $39666588.72, Avg Approvals: 6092.2, Epsilon: 0.909\n"
          ]
        },
        {
          "name": "stderr",
          "output_type": "stream",
          "text": [
            " 40%|████      | 200/500 [04:50<07:12,  1.44s/it]"
          ]
        },
        {
          "name": "stdout",
          "output_type": "stream",
          "text": [
            "Episode 200/500 - Avg Reward: 32691.56, Avg Profit: $39864756.09, Avg Approvals: 6089.5, Epsilon: 0.905\n"
          ]
        },
        {
          "name": "stderr",
          "output_type": "stream",
          "text": [
            " 42%|████▏     | 210/500 [05:04<06:58,  1.44s/it]"
          ]
        },
        {
          "name": "stdout",
          "output_type": "stream",
          "text": [
            "Episode 210/500 - Avg Reward: 33291.50, Avg Profit: $40413799.16, Avg Approvals: 6095.2, Epsilon: 0.900\n"
          ]
        },
        {
          "name": "stderr",
          "output_type": "stream",
          "text": [
            " 44%|████▍     | 220/500 [05:19<06:43,  1.44s/it]"
          ]
        },
        {
          "name": "stdout",
          "output_type": "stream",
          "text": [
            "Episode 220/500 - Avg Reward: 33630.84, Avg Profit: $40693642.05, Avg Approvals: 6110.6, Epsilon: 0.896\n"
          ]
        },
        {
          "name": "stderr",
          "output_type": "stream",
          "text": [
            " 46%|████▌     | 230/500 [05:33<06:30,  1.44s/it]"
          ]
        },
        {
          "name": "stdout",
          "output_type": "stream",
          "text": [
            "Episode 230/500 - Avg Reward: 33792.96, Avg Profit: $40903362.62, Avg Approvals: 6086.8, Epsilon: 0.891\n"
          ]
        },
        {
          "name": "stderr",
          "output_type": "stream",
          "text": [
            " 48%|████▊     | 240/500 [05:48<06:20,  1.46s/it]"
          ]
        },
        {
          "name": "stdout",
          "output_type": "stream",
          "text": [
            "Episode 240/500 - Avg Reward: 34765.56, Avg Profit: $41762162.89, Avg Approvals: 6111.1, Epsilon: 0.887\n"
          ]
        },
        {
          "name": "stderr",
          "output_type": "stream",
          "text": [
            " 50%|█████     | 251/500 [06:04<06:00,  1.45s/it]"
          ]
        },
        {
          "name": "stdout",
          "output_type": "stream",
          "text": [
            "Episode 250/500 - Avg Reward: 35137.97, Avg Profit: $41985872.32, Avg Approvals: 6123.2, Epsilon: 0.882\n"
          ]
        },
        {
          "name": "stderr",
          "output_type": "stream",
          "text": [
            " 52%|█████▏    | 260/500 [06:17<05:50,  1.46s/it]"
          ]
        },
        {
          "name": "stdout",
          "output_type": "stream",
          "text": [
            "Episode 260/500 - Avg Reward: 34895.22, Avg Profit: $41780823.94, Avg Approvals: 6109.5, Epsilon: 0.878\n"
          ]
        },
        {
          "name": "stderr",
          "output_type": "stream",
          "text": [
            " 54%|█████▍    | 271/500 [06:33<05:35,  1.46s/it]"
          ]
        },
        {
          "name": "stdout",
          "output_type": "stream",
          "text": [
            "Episode 270/500 - Avg Reward: 35173.73, Avg Profit: $42064833.69, Avg Approvals: 6106.3, Epsilon: 0.874\n"
          ]
        },
        {
          "name": "stderr",
          "output_type": "stream",
          "text": [
            " 56%|█████▌    | 280/500 [06:46<05:25,  1.48s/it]"
          ]
        },
        {
          "name": "stdout",
          "output_type": "stream",
          "text": [
            "Episode 280/500 - Avg Reward: 35482.50, Avg Profit: $42308901.50, Avg Approvals: 6121.9, Epsilon: 0.869\n"
          ]
        },
        {
          "name": "stderr",
          "output_type": "stream",
          "text": [
            " 58%|█████▊    | 290/500 [07:01<05:07,  1.46s/it]"
          ]
        },
        {
          "name": "stdout",
          "output_type": "stream",
          "text": [
            "Episode 290/500 - Avg Reward: 36245.78, Avg Profit: $42963483.75, Avg Approvals: 6124.6, Epsilon: 0.865\n"
          ]
        },
        {
          "name": "stderr",
          "output_type": "stream",
          "text": [
            " 60%|██████    | 300/500 [07:16<04:54,  1.47s/it]"
          ]
        },
        {
          "name": "stdout",
          "output_type": "stream",
          "text": [
            "Episode 300/500 - Avg Reward: 36050.57, Avg Profit: $42776172.88, Avg Approvals: 6135.9, Epsilon: 0.861\n"
          ]
        },
        {
          "name": "stderr",
          "output_type": "stream",
          "text": [
            " 62%|██████▏   | 310/500 [07:30<04:39,  1.47s/it]"
          ]
        },
        {
          "name": "stdout",
          "output_type": "stream",
          "text": [
            "Episode 310/500 - Avg Reward: 36473.76, Avg Profit: $43122256.48, Avg Approvals: 6151.6, Epsilon: 0.856\n"
          ]
        },
        {
          "name": "stderr",
          "output_type": "stream",
          "text": [
            " 64%|██████▍   | 320/500 [07:46<04:31,  1.51s/it]"
          ]
        },
        {
          "name": "stdout",
          "output_type": "stream",
          "text": [
            "Episode 320/500 - Avg Reward: 36702.26, Avg Profit: $43359861.08, Avg Approvals: 6128.5, Epsilon: 0.852\n"
          ]
        },
        {
          "name": "stderr",
          "output_type": "stream",
          "text": [
            " 66%|██████▌   | 330/500 [08:01<04:13,  1.49s/it]"
          ]
        },
        {
          "name": "stdout",
          "output_type": "stream",
          "text": [
            "Episode 330/500 - Avg Reward: 37050.25, Avg Profit: $43678048.99, Avg Approvals: 6133.9, Epsilon: 0.848\n"
          ]
        },
        {
          "name": "stderr",
          "output_type": "stream",
          "text": [
            " 68%|██████▊   | 341/500 [08:17<03:54,  1.47s/it]"
          ]
        },
        {
          "name": "stdout",
          "output_type": "stream",
          "text": [
            "Episode 340/500 - Avg Reward: 37029.73, Avg Profit: $43654125.98, Avg Approvals: 6136.4, Epsilon: 0.844\n"
          ]
        },
        {
          "name": "stderr",
          "output_type": "stream",
          "text": [
            " 70%|███████   | 350/500 [08:30<03:39,  1.47s/it]"
          ]
        },
        {
          "name": "stdout",
          "output_type": "stream",
          "text": [
            "Episode 350/500 - Avg Reward: 37658.13, Avg Profit: $44185826.66, Avg Approvals: 6145.1, Epsilon: 0.839\n"
          ]
        },
        {
          "name": "stderr",
          "output_type": "stream",
          "text": [
            " 72%|███████▏  | 360/500 [08:45<03:28,  1.49s/it]"
          ]
        },
        {
          "name": "stdout",
          "output_type": "stream",
          "text": [
            "Episode 360/500 - Avg Reward: 37929.42, Avg Profit: $44464420.68, Avg Approvals: 6140.0, Epsilon: 0.835\n"
          ]
        },
        {
          "name": "stderr",
          "output_type": "stream",
          "text": [
            " 74%|███████▍  | 370/500 [09:00<03:12,  1.48s/it]"
          ]
        },
        {
          "name": "stdout",
          "output_type": "stream",
          "text": [
            "Episode 370/500 - Avg Reward: 38420.11, Avg Profit: $44807712.58, Avg Approvals: 6172.7, Epsilon: 0.831\n"
          ]
        },
        {
          "name": "stderr",
          "output_type": "stream",
          "text": [
            " 76%|███████▌  | 380/500 [09:15<02:56,  1.47s/it]"
          ]
        },
        {
          "name": "stdout",
          "output_type": "stream",
          "text": [
            "Episode 380/500 - Avg Reward: 38806.07, Avg Profit: $45138770.66, Avg Approvals: 6161.0, Epsilon: 0.827\n"
          ]
        },
        {
          "name": "stderr",
          "output_type": "stream",
          "text": [
            " 78%|███████▊  | 390/500 [09:30<02:44,  1.49s/it]"
          ]
        },
        {
          "name": "stdout",
          "output_type": "stream",
          "text": [
            "Episode 390/500 - Avg Reward: 38457.99, Avg Profit: $44894293.38, Avg Approvals: 6145.6, Epsilon: 0.823\n"
          ]
        },
        {
          "name": "stderr",
          "output_type": "stream",
          "text": [
            " 80%|████████  | 400/500 [09:44<02:28,  1.48s/it]"
          ]
        },
        {
          "name": "stdout",
          "output_type": "stream",
          "text": [
            "Episode 400/500 - Avg Reward: 38778.95, Avg Profit: $45112450.77, Avg Approvals: 6165.6, Epsilon: 0.819\n"
          ]
        },
        {
          "name": "stderr",
          "output_type": "stream",
          "text": [
            " 82%|████████▏ | 412/500 [10:02<02:09,  1.47s/it]"
          ]
        },
        {
          "name": "stdout",
          "output_type": "stream",
          "text": [
            "Episode 410/500 - Avg Reward: 39185.48, Avg Profit: $45428780.16, Avg Approvals: 6173.0, Epsilon: 0.815\n"
          ]
        },
        {
          "name": "stderr",
          "output_type": "stream",
          "text": [
            " 84%|████████▍ | 421/500 [10:16<01:57,  1.49s/it]"
          ]
        },
        {
          "name": "stdout",
          "output_type": "stream",
          "text": [
            "Episode 420/500 - Avg Reward: 39715.80, Avg Profit: $45915602.81, Avg Approvals: 6183.8, Epsilon: 0.811\n"
          ]
        },
        {
          "name": "stderr",
          "output_type": "stream",
          "text": [
            " 86%|████████▌ | 430/500 [10:29<01:43,  1.48s/it]"
          ]
        },
        {
          "name": "stdout",
          "output_type": "stream",
          "text": [
            "Episode 430/500 - Avg Reward: 39977.53, Avg Profit: $46125825.85, Avg Approvals: 6181.5, Epsilon: 0.806\n"
          ]
        },
        {
          "name": "stderr",
          "output_type": "stream",
          "text": [
            " 88%|████████▊ | 441/500 [10:46<01:27,  1.48s/it]"
          ]
        },
        {
          "name": "stdout",
          "output_type": "stream",
          "text": [
            "Episode 440/500 - Avg Reward: 40494.54, Avg Profit: $46606837.16, Avg Approvals: 6181.7, Epsilon: 0.802\n"
          ]
        },
        {
          "name": "stderr",
          "output_type": "stream",
          "text": [
            " 90%|█████████ | 451/500 [11:00<01:12,  1.48s/it]"
          ]
        },
        {
          "name": "stdout",
          "output_type": "stream",
          "text": [
            "Episode 450/500 - Avg Reward: 41185.94, Avg Profit: $47130840.29, Avg Approvals: 6207.2, Epsilon: 0.798\n"
          ]
        },
        {
          "name": "stderr",
          "output_type": "stream",
          "text": [
            " 92%|█████████▏| 460/500 [11:14<00:59,  1.49s/it]"
          ]
        },
        {
          "name": "stdout",
          "output_type": "stream",
          "text": [
            "Episode 460/500 - Avg Reward: 40889.55, Avg Profit: $46930552.02, Avg Approvals: 6190.5, Epsilon: 0.794\n"
          ]
        },
        {
          "name": "stderr",
          "output_type": "stream",
          "text": [
            " 94%|█████████▍| 470/500 [11:29<00:44,  1.49s/it]"
          ]
        },
        {
          "name": "stdout",
          "output_type": "stream",
          "text": [
            "Episode 470/500 - Avg Reward: 40812.27, Avg Profit: $46815070.43, Avg Approvals: 6202.9, Epsilon: 0.791\n"
          ]
        },
        {
          "name": "stderr",
          "output_type": "stream",
          "text": [
            " 96%|█████████▌| 480/500 [11:44<00:29,  1.49s/it]"
          ]
        },
        {
          "name": "stdout",
          "output_type": "stream",
          "text": [
            "Episode 480/500 - Avg Reward: 41183.82, Avg Profit: $47174015.21, Avg Approvals: 6192.4, Epsilon: 0.787\n"
          ]
        },
        {
          "name": "stderr",
          "output_type": "stream",
          "text": [
            " 98%|█████████▊| 490/500 [11:59<00:14,  1.49s/it]"
          ]
        },
        {
          "name": "stdout",
          "output_type": "stream",
          "text": [
            "Episode 490/500 - Avg Reward: 41812.44, Avg Profit: $47696336.13, Avg Approvals: 6212.4, Epsilon: 0.783\n"
          ]
        },
        {
          "name": "stderr",
          "output_type": "stream",
          "text": [
            "100%|██████████| 500/500 [12:14<00:00,  1.47s/it]"
          ]
        },
        {
          "name": "stdout",
          "output_type": "stream",
          "text": [
            "Episode 500/500 - Avg Reward: 41742.26, Avg Profit: $47685660.59, Avg Approvals: 6187.9, Epsilon: 0.779\n"
          ]
        },
        {
          "name": "stderr",
          "output_type": "stream",
          "text": [
            "\n"
          ]
        }
      ],
      "source": [
        "# =============================================================================\n",
        "# CELL 12: Train Q-Learning Agent (IMPROVED VERSION)\n",
        "# =============================================================================\n",
        "# Changes:\n",
        "# - More bins (n_bins=12) for better state representation\n",
        "# - Slower epsilon decay (0.9995) for more exploration across more episodes\n",
        "# - FIXED: 500 episodes (was 100) - RL needs hundreds of episodes!\n",
        "# - Higher learning rate (0.15) for faster initial learning\n",
        "\n",
        "# Initialize Q-Learning agent\n",
        "qlearning_agent = QLearningAgent(\n",
        "    state_dim=train_env.get_state_dim(),\n",
        "    action_dim=train_env.get_action_dim(),\n",
        "    n_bins=12,              # IMPROVED: Was 8 (finer discretization)\n",
        "    learning_rate=0.15,     # IMPROVED: Was 0.1 (faster learning)\n",
        "    gamma=0.95,\n",
        "    epsilon=1.0,\n",
        "    epsilon_decay=0.9995,   # FIXED: Slower decay for 500 episodes\n",
        "    epsilon_min=0.01\n",
        ")\n",
        "\n",
        "# Train Q-Learning agent\n",
        "print(\"Training with FIXED hyperparameters:\")\n",
        "print(\"- FIXED: 500 episodes (was 100) - RL needs hundreds of episodes!\")\n",
        "print(\"- More bins: 12 (was 8)\")\n",
        "print(\"- Adjusted epsilon decay: 0.9995 (for longer training)\")\n",
        "print(\"- Higher LR: 0.15 (was 0.1)\")\n",
        "\n",
        "qlearning_agent, qlearning_history = train_agent(\n",
        "    qlearning_agent,\n",
        "    train_env,\n",
        "    n_episodes=500,  # FIXED: Was 100 - way too few!\n",
        "    agent_name=\"Q-Learning\"\n",
        ")\n"
      ]
    },
    {
      "cell_type": "code",
      "execution_count": 15,
      "metadata": {
        "colab": {
          "base_uri": "https://localhost:8080/"
        },
        "id": "AAyhIyFP_SS-",
        "outputId": "ad0b1d1c-2e02-4252-9efc-77e021a5da1c"
      },
      "outputs": [
        {
          "name": "stdout",
          "output_type": "stream",
          "text": [
            "Training with FIXED hyperparameters:\n",
            "- FIXED: 1000 episodes (was 100) - DQN needs even more episodes!\n",
            "- Larger buffer: 20000 (was 10000)\n",
            "- Smaller batch: 32 (was 64)\n",
            "- More frequent target updates: 5 (was 10)\n",
            "\n",
            "Training DQN...\n",
            "\n"
          ]
        },
        {
          "name": "stderr",
          "output_type": "stream",
          "text": [
            "  1%|          | 10/1000 [01:03<1:47:03,  6.49s/it]"
          ]
        },
        {
          "name": "stdout",
          "output_type": "stream",
          "text": [
            "Episode 10/1000 - Avg Reward: 26885.20, Avg Profit: $34978698.85, Avg Approvals: 6019.4, Epsilon: 0.995\n"
          ]
        },
        {
          "name": "stderr",
          "output_type": "stream",
          "text": [
            "  2%|▏         | 20/1000 [02:05<1:43:46,  6.35s/it]"
          ]
        },
        {
          "name": "stdout",
          "output_type": "stream",
          "text": [
            "Episode 20/1000 - Avg Reward: 27440.51, Avg Profit: $35480005.10, Avg Approvals: 6012.7, Epsilon: 0.990\n"
          ]
        },
        {
          "name": "stderr",
          "output_type": "stream",
          "text": [
            "  3%|▎         | 30/1000 [03:12<1:51:22,  6.89s/it]"
          ]
        },
        {
          "name": "stdout",
          "output_type": "stream",
          "text": [
            "Episode 30/1000 - Avg Reward: 27272.15, Avg Profit: $35409448.83, Avg Approvals: 6011.2, Epsilon: 0.985\n"
          ]
        },
        {
          "name": "stderr",
          "output_type": "stream",
          "text": [
            "  4%|▍         | 40/1000 [04:14<1:39:23,  6.21s/it]"
          ]
        },
        {
          "name": "stdout",
          "output_type": "stream",
          "text": [
            "Episode 40/1000 - Avg Reward: 27469.14, Avg Profit: $35518342.24, Avg Approvals: 6025.6, Epsilon: 0.980\n"
          ]
        },
        {
          "name": "stderr",
          "output_type": "stream",
          "text": [
            "  5%|▌         | 50/1000 [05:18<1:40:40,  6.36s/it]"
          ]
        },
        {
          "name": "stdout",
          "output_type": "stream",
          "text": [
            "Episode 50/1000 - Avg Reward: 28273.66, Avg Profit: $36161655.05, Avg Approvals: 6046.5, Epsilon: 0.975\n"
          ]
        },
        {
          "name": "stderr",
          "output_type": "stream",
          "text": [
            "  6%|▌         | 60/1000 [06:22<1:41:12,  6.46s/it]"
          ]
        },
        {
          "name": "stdout",
          "output_type": "stream",
          "text": [
            "Episode 60/1000 - Avg Reward: 28135.45, Avg Profit: $36048553.12, Avg Approvals: 6051.0, Epsilon: 0.970\n"
          ]
        },
        {
          "name": "stderr",
          "output_type": "stream",
          "text": [
            "  7%|▋         | 70/1000 [07:25<1:38:04,  6.33s/it]"
          ]
        },
        {
          "name": "stdout",
          "output_type": "stream",
          "text": [
            "Episode 70/1000 - Avg Reward: 28356.45, Avg Profit: $36223952.50, Avg Approvals: 6053.4, Epsilon: 0.966\n"
          ]
        },
        {
          "name": "stderr",
          "output_type": "stream",
          "text": [
            "  8%|▊         | 80/1000 [08:28<1:36:53,  6.32s/it]"
          ]
        },
        {
          "name": "stdout",
          "output_type": "stream",
          "text": [
            "Episode 80/1000 - Avg Reward: 28597.31, Avg Profit: $36333709.00, Avg Approvals: 6093.9, Epsilon: 0.961\n"
          ]
        },
        {
          "name": "stderr",
          "output_type": "stream",
          "text": [
            "  9%|▉         | 90/1000 [09:31<1:35:39,  6.31s/it]"
          ]
        },
        {
          "name": "stdout",
          "output_type": "stream",
          "text": [
            "Episode 90/1000 - Avg Reward: 28607.49, Avg Profit: $36483890.92, Avg Approvals: 6066.6, Epsilon: 0.956\n"
          ]
        },
        {
          "name": "stderr",
          "output_type": "stream",
          "text": [
            " 10%|█         | 100/1000 [10:35<1:35:05,  6.34s/it]"
          ]
        },
        {
          "name": "stdout",
          "output_type": "stream",
          "text": [
            "Episode 100/1000 - Avg Reward: 29252.23, Avg Profit: $36961430.61, Avg Approvals: 6077.5, Epsilon: 0.951\n"
          ]
        },
        {
          "name": "stderr",
          "output_type": "stream",
          "text": [
            " 11%|█         | 110/1000 [11:38<1:33:52,  6.33s/it]"
          ]
        },
        {
          "name": "stdout",
          "output_type": "stream",
          "text": [
            "Episode 110/1000 - Avg Reward: 29569.26, Avg Profit: $37231560.96, Avg Approvals: 6095.0, Epsilon: 0.946\n"
          ]
        },
        {
          "name": "stderr",
          "output_type": "stream",
          "text": [
            " 12%|█▏        | 120/1000 [12:42<1:32:33,  6.31s/it]"
          ]
        },
        {
          "name": "stdout",
          "output_type": "stream",
          "text": [
            "Episode 120/1000 - Avg Reward: 29441.19, Avg Profit: $37160185.10, Avg Approvals: 6076.1, Epsilon: 0.942\n"
          ]
        },
        {
          "name": "stderr",
          "output_type": "stream",
          "text": [
            " 13%|█▎        | 130/1000 [13:45<1:31:30,  6.31s/it]"
          ]
        },
        {
          "name": "stdout",
          "output_type": "stream",
          "text": [
            "Episode 130/1000 - Avg Reward: 29848.47, Avg Profit: $37491872.00, Avg Approvals: 6102.7, Epsilon: 0.937\n"
          ]
        },
        {
          "name": "stderr",
          "output_type": "stream",
          "text": [
            " 14%|█▍        | 140/1000 [14:48<1:30:45,  6.33s/it]"
          ]
        },
        {
          "name": "stdout",
          "output_type": "stream",
          "text": [
            "Episode 140/1000 - Avg Reward: 29816.77, Avg Profit: $37434374.78, Avg Approvals: 6112.2, Epsilon: 0.932\n"
          ]
        },
        {
          "name": "stderr",
          "output_type": "stream",
          "text": [
            " 15%|█▌        | 150/1000 [15:51<1:29:58,  6.35s/it]"
          ]
        },
        {
          "name": "stdout",
          "output_type": "stream",
          "text": [
            "Episode 150/1000 - Avg Reward: 30328.95, Avg Profit: $37815048.44, Avg Approvals: 6131.5, Epsilon: 0.928\n"
          ]
        },
        {
          "name": "stderr",
          "output_type": "stream",
          "text": [
            " 16%|█▌        | 160/1000 [16:55<1:28:36,  6.33s/it]"
          ]
        },
        {
          "name": "stdout",
          "output_type": "stream",
          "text": [
            "Episode 160/1000 - Avg Reward: 30507.57, Avg Profit: $38023369.99, Avg Approvals: 6115.2, Epsilon: 0.923\n"
          ]
        },
        {
          "name": "stderr",
          "output_type": "stream",
          "text": [
            " 17%|█▋        | 170/1000 [17:58<1:27:49,  6.35s/it]"
          ]
        },
        {
          "name": "stdout",
          "output_type": "stream",
          "text": [
            "Episode 170/1000 - Avg Reward: 30651.56, Avg Profit: $38088358.13, Avg Approvals: 6138.7, Epsilon: 0.918\n"
          ]
        },
        {
          "name": "stderr",
          "output_type": "stream",
          "text": [
            " 18%|█▊        | 180/1000 [19:02<1:26:48,  6.35s/it]"
          ]
        },
        {
          "name": "stdout",
          "output_type": "stream",
          "text": [
            "Episode 180/1000 - Avg Reward: 30992.90, Avg Profit: $38418395.85, Avg Approvals: 6147.4, Epsilon: 0.914\n"
          ]
        },
        {
          "name": "stderr",
          "output_type": "stream",
          "text": [
            " 19%|█▉        | 190/1000 [20:05<1:25:52,  6.36s/it]"
          ]
        },
        {
          "name": "stdout",
          "output_type": "stream",
          "text": [
            "Episode 190/1000 - Avg Reward: 31347.86, Avg Profit: $38680457.39, Avg Approvals: 6153.1, Epsilon: 0.909\n"
          ]
        },
        {
          "name": "stderr",
          "output_type": "stream",
          "text": [
            " 20%|██        | 200/1000 [21:09<1:24:20,  6.33s/it]"
          ]
        },
        {
          "name": "stdout",
          "output_type": "stream",
          "text": [
            "Episode 200/1000 - Avg Reward: 31661.18, Avg Profit: $38966376.79, Avg Approvals: 6174.4, Epsilon: 0.905\n"
          ]
        },
        {
          "name": "stderr",
          "output_type": "stream",
          "text": [
            " 21%|██        | 210/1000 [22:13<1:24:33,  6.42s/it]"
          ]
        },
        {
          "name": "stdout",
          "output_type": "stream",
          "text": [
            "Episode 210/1000 - Avg Reward: 31890.71, Avg Profit: $39155312.16, Avg Approvals: 6161.8, Epsilon: 0.900\n"
          ]
        },
        {
          "name": "stderr",
          "output_type": "stream",
          "text": [
            " 22%|██▏       | 220/1000 [23:16<1:22:34,  6.35s/it]"
          ]
        },
        {
          "name": "stdout",
          "output_type": "stream",
          "text": [
            "Episode 220/1000 - Avg Reward: 31773.94, Avg Profit: $39032238.90, Avg Approvals: 6184.2, Epsilon: 0.896\n"
          ]
        },
        {
          "name": "stderr",
          "output_type": "stream",
          "text": [
            " 23%|██▎       | 230/1000 [24:20<1:21:52,  6.38s/it]"
          ]
        },
        {
          "name": "stdout",
          "output_type": "stream",
          "text": [
            "Episode 230/1000 - Avg Reward: 32121.13, Avg Profit: $39333325.02, Avg Approvals: 6182.5, Epsilon: 0.891\n"
          ]
        },
        {
          "name": "stderr",
          "output_type": "stream",
          "text": [
            " 24%|██▍       | 240/1000 [25:24<1:20:42,  6.37s/it]"
          ]
        },
        {
          "name": "stdout",
          "output_type": "stream",
          "text": [
            "Episode 240/1000 - Avg Reward: 32427.68, Avg Profit: $39528883.98, Avg Approvals: 6202.6, Epsilon: 0.887\n"
          ]
        },
        {
          "name": "stderr",
          "output_type": "stream",
          "text": [
            " 25%|██▌       | 250/1000 [26:28<1:19:44,  6.38s/it]"
          ]
        },
        {
          "name": "stdout",
          "output_type": "stream",
          "text": [
            "Episode 250/1000 - Avg Reward: 32402.39, Avg Profit: $39564790.62, Avg Approvals: 6203.8, Epsilon: 0.882\n"
          ]
        },
        {
          "name": "stderr",
          "output_type": "stream",
          "text": [
            " 26%|██▌       | 260/1000 [27:31<1:18:19,  6.35s/it]"
          ]
        },
        {
          "name": "stdout",
          "output_type": "stream",
          "text": [
            "Episode 260/1000 - Avg Reward: 32813.24, Avg Profit: $39909742.71, Avg Approvals: 6208.3, Epsilon: 0.878\n"
          ]
        },
        {
          "name": "stderr",
          "output_type": "stream",
          "text": [
            " 27%|██▋       | 270/1000 [28:35<1:17:22,  6.36s/it]"
          ]
        },
        {
          "name": "stdout",
          "output_type": "stream",
          "text": [
            "Episode 270/1000 - Avg Reward: 33008.61, Avg Profit: $40162205.77, Avg Approvals: 6195.9, Epsilon: 0.874\n"
          ]
        },
        {
          "name": "stderr",
          "output_type": "stream",
          "text": [
            " 28%|██▊       | 280/1000 [29:39<1:16:40,  6.39s/it]"
          ]
        },
        {
          "name": "stdout",
          "output_type": "stream",
          "text": [
            "Episode 280/1000 - Avg Reward: 32907.84, Avg Profit: $39984041.30, Avg Approvals: 6215.3, Epsilon: 0.869\n"
          ]
        },
        {
          "name": "stderr",
          "output_type": "stream",
          "text": [
            " 29%|██▉       | 290/1000 [30:43<1:15:16,  6.36s/it]"
          ]
        },
        {
          "name": "stdout",
          "output_type": "stream",
          "text": [
            "Episode 290/1000 - Avg Reward: 33200.90, Avg Profit: $40241700.29, Avg Approvals: 6214.4, Epsilon: 0.865\n"
          ]
        },
        {
          "name": "stderr",
          "output_type": "stream",
          "text": [
            " 30%|███       | 300/1000 [31:46<1:14:16,  6.37s/it]"
          ]
        },
        {
          "name": "stdout",
          "output_type": "stream",
          "text": [
            "Episode 300/1000 - Avg Reward: 33930.26, Avg Profit: $40900761.84, Avg Approvals: 6220.2, Epsilon: 0.861\n"
          ]
        },
        {
          "name": "stderr",
          "output_type": "stream",
          "text": [
            " 31%|███       | 310/1000 [32:50<1:13:18,  6.37s/it]"
          ]
        },
        {
          "name": "stdout",
          "output_type": "stream",
          "text": [
            "Episode 310/1000 - Avg Reward: 33774.67, Avg Profit: $40656666.43, Avg Approvals: 6252.6, Epsilon: 0.856\n"
          ]
        },
        {
          "name": "stderr",
          "output_type": "stream",
          "text": [
            " 32%|███▏      | 320/1000 [33:54<1:12:05,  6.36s/it]"
          ]
        },
        {
          "name": "stdout",
          "output_type": "stream",
          "text": [
            "Episode 320/1000 - Avg Reward: 34227.40, Avg Profit: $41094499.43, Avg Approvals: 6253.2, Epsilon: 0.852\n"
          ]
        },
        {
          "name": "stderr",
          "output_type": "stream",
          "text": [
            " 33%|███▎      | 330/1000 [34:58<1:11:05,  6.37s/it]"
          ]
        },
        {
          "name": "stdout",
          "output_type": "stream",
          "text": [
            "Episode 330/1000 - Avg Reward: 34188.49, Avg Profit: $41121593.99, Avg Approvals: 6235.8, Epsilon: 0.848\n"
          ]
        },
        {
          "name": "stderr",
          "output_type": "stream",
          "text": [
            " 34%|███▍      | 340/1000 [36:01<1:10:05,  6.37s/it]"
          ]
        },
        {
          "name": "stdout",
          "output_type": "stream",
          "text": [
            "Episode 340/1000 - Avg Reward: 34465.34, Avg Profit: $41264737.61, Avg Approvals: 6270.8, Epsilon: 0.844\n"
          ]
        },
        {
          "name": "stderr",
          "output_type": "stream",
          "text": [
            " 35%|███▌      | 350/1000 [37:05<1:09:05,  6.38s/it]"
          ]
        },
        {
          "name": "stdout",
          "output_type": "stream",
          "text": [
            "Episode 350/1000 - Avg Reward: 34789.63, Avg Profit: $41526431.80, Avg Approvals: 6270.3, Epsilon: 0.839\n"
          ]
        },
        {
          "name": "stderr",
          "output_type": "stream",
          "text": [
            " 36%|███▌      | 360/1000 [38:08<1:07:26,  6.32s/it]"
          ]
        },
        {
          "name": "stdout",
          "output_type": "stream",
          "text": [
            "Episode 360/1000 - Avg Reward: 35120.44, Avg Profit: $41778538.35, Avg Approvals: 6297.1, Epsilon: 0.835\n"
          ]
        },
        {
          "name": "stderr",
          "output_type": "stream",
          "text": [
            " 37%|███▋      | 370/1000 [39:12<1:06:22,  6.32s/it]"
          ]
        },
        {
          "name": "stdout",
          "output_type": "stream",
          "text": [
            "Episode 370/1000 - Avg Reward: 35053.13, Avg Profit: $41778532.03, Avg Approvals: 6279.3, Epsilon: 0.831\n"
          ]
        },
        {
          "name": "stderr",
          "output_type": "stream",
          "text": [
            " 38%|███▊      | 380/1000 [40:16<1:07:22,  6.52s/it]"
          ]
        },
        {
          "name": "stdout",
          "output_type": "stream",
          "text": [
            "Episode 380/1000 - Avg Reward: 35220.41, Avg Profit: $41860311.98, Avg Approvals: 6297.1, Epsilon: 0.827\n"
          ]
        },
        {
          "name": "stderr",
          "output_type": "stream",
          "text": [
            " 39%|███▉      | 390/1000 [43:33<3:26:54, 20.35s/it]"
          ]
        },
        {
          "name": "stdout",
          "output_type": "stream",
          "text": [
            "Episode 390/1000 - Avg Reward: 35350.19, Avg Profit: $41947089.75, Avg Approvals: 6321.8, Epsilon: 0.823\n"
          ]
        },
        {
          "name": "stderr",
          "output_type": "stream",
          "text": [
            " 40%|████      | 400/1000 [44:38<1:08:57,  6.90s/it]"
          ]
        },
        {
          "name": "stdout",
          "output_type": "stream",
          "text": [
            "Episode 400/1000 - Avg Reward: 35274.84, Avg Profit: $41948839.94, Avg Approvals: 6306.1, Epsilon: 0.819\n"
          ]
        },
        {
          "name": "stderr",
          "output_type": "stream",
          "text": [
            " 41%|████      | 410/1000 [45:42<1:03:03,  6.41s/it]"
          ]
        },
        {
          "name": "stdout",
          "output_type": "stream",
          "text": [
            "Episode 410/1000 - Avg Reward: 35906.13, Avg Profit: $42451234.14, Avg Approvals: 6325.3, Epsilon: 0.815\n"
          ]
        },
        {
          "name": "stderr",
          "output_type": "stream",
          "text": [
            " 42%|████▏     | 420/1000 [46:46<1:01:48,  6.39s/it]"
          ]
        },
        {
          "name": "stdout",
          "output_type": "stream",
          "text": [
            "Episode 420/1000 - Avg Reward: 36242.91, Avg Profit: $42805410.49, Avg Approvals: 6313.7, Epsilon: 0.811\n"
          ]
        },
        {
          "name": "stderr",
          "output_type": "stream",
          "text": [
            " 43%|████▎     | 430/1000 [47:50<1:00:54,  6.41s/it]"
          ]
        },
        {
          "name": "stdout",
          "output_type": "stream",
          "text": [
            "Episode 430/1000 - Avg Reward: 36105.26, Avg Profit: $42641562.98, Avg Approvals: 6317.4, Epsilon: 0.806\n"
          ]
        },
        {
          "name": "stderr",
          "output_type": "stream",
          "text": [
            " 44%|████▍     | 440/1000 [48:55<59:50,  6.41s/it]  "
          ]
        },
        {
          "name": "stdout",
          "output_type": "stream",
          "text": [
            "Episode 440/1000 - Avg Reward: 36851.74, Avg Profit: $43314240.91, Avg Approvals: 6328.1, Epsilon: 0.802\n"
          ]
        },
        {
          "name": "stderr",
          "output_type": "stream",
          "text": [
            " 45%|████▌     | 450/1000 [49:59<59:11,  6.46s/it]"
          ]
        },
        {
          "name": "stdout",
          "output_type": "stream",
          "text": [
            "Episode 450/1000 - Avg Reward: 36748.44, Avg Profit: $43208036.88, Avg Approvals: 6337.5, Epsilon: 0.798\n"
          ]
        },
        {
          "name": "stderr",
          "output_type": "stream",
          "text": [
            " 46%|████▌     | 460/1000 [51:04<58:02,  6.45s/it]"
          ]
        },
        {
          "name": "stdout",
          "output_type": "stream",
          "text": [
            "Episode 460/1000 - Avg Reward: 36875.87, Avg Profit: $43266172.28, Avg Approvals: 6341.7, Epsilon: 0.794\n"
          ]
        },
        {
          "name": "stderr",
          "output_type": "stream",
          "text": [
            " 47%|████▋     | 470/1000 [52:08<57:01,  6.46s/it]"
          ]
        },
        {
          "name": "stdout",
          "output_type": "stream",
          "text": [
            "Episode 470/1000 - Avg Reward: 36827.57, Avg Profit: $43190066.95, Avg Approvals: 6360.7, Epsilon: 0.791\n"
          ]
        },
        {
          "name": "stderr",
          "output_type": "stream",
          "text": [
            " 48%|████▊     | 480/1000 [53:13<56:09,  6.48s/it]"
          ]
        },
        {
          "name": "stdout",
          "output_type": "stream",
          "text": [
            "Episode 480/1000 - Avg Reward: 36988.74, Avg Profit: $43340941.70, Avg Approvals: 6362.2, Epsilon: 0.787\n"
          ]
        },
        {
          "name": "stderr",
          "output_type": "stream",
          "text": [
            " 49%|████▉     | 490/1000 [54:18<55:43,  6.56s/it]"
          ]
        },
        {
          "name": "stdout",
          "output_type": "stream",
          "text": [
            "Episode 490/1000 - Avg Reward: 37542.17, Avg Profit: $43908968.18, Avg Approvals: 6356.2, Epsilon: 0.783\n"
          ]
        },
        {
          "name": "stderr",
          "output_type": "stream",
          "text": [
            " 50%|█████     | 500/1000 [55:22<53:45,  6.45s/it]"
          ]
        },
        {
          "name": "stdout",
          "output_type": "stream",
          "text": [
            "Episode 500/1000 - Avg Reward: 37762.44, Avg Profit: $44073342.21, Avg Approvals: 6367.1, Epsilon: 0.779\n"
          ]
        },
        {
          "name": "stderr",
          "output_type": "stream",
          "text": [
            " 51%|█████     | 510/1000 [56:27<52:39,  6.45s/it]"
          ]
        },
        {
          "name": "stdout",
          "output_type": "stream",
          "text": [
            "Episode 510/1000 - Avg Reward: 37933.65, Avg Profit: $44186754.04, Avg Approvals: 6369.0, Epsilon: 0.775\n"
          ]
        },
        {
          "name": "stderr",
          "output_type": "stream",
          "text": [
            " 52%|█████▏    | 520/1000 [57:31<51:32,  6.44s/it]"
          ]
        },
        {
          "name": "stdout",
          "output_type": "stream",
          "text": [
            "Episode 520/1000 - Avg Reward: 38222.94, Avg Profit: $44412439.64, Avg Approvals: 6387.6, Epsilon: 0.771\n"
          ]
        },
        {
          "name": "stderr",
          "output_type": "stream",
          "text": [
            " 53%|█████▎    | 530/1000 [58:36<50:38,  6.47s/it]"
          ]
        },
        {
          "name": "stdout",
          "output_type": "stream",
          "text": [
            "Episode 530/1000 - Avg Reward: 38592.04, Avg Profit: $44735335.84, Avg Approvals: 6399.5, Epsilon: 0.767\n"
          ]
        },
        {
          "name": "stderr",
          "output_type": "stream",
          "text": [
            " 54%|█████▍    | 540/1000 [59:41<49:36,  6.47s/it]"
          ]
        },
        {
          "name": "stdout",
          "output_type": "stream",
          "text": [
            "Episode 540/1000 - Avg Reward: 38175.65, Avg Profit: $44339746.36, Avg Approvals: 6402.9, Epsilon: 0.763\n"
          ]
        },
        {
          "name": "stderr",
          "output_type": "stream",
          "text": [
            " 55%|█████▌    | 550/1000 [1:00:45<48:15,  6.43s/it]"
          ]
        },
        {
          "name": "stdout",
          "output_type": "stream",
          "text": [
            "Episode 550/1000 - Avg Reward: 38761.80, Avg Profit: $44824299.43, Avg Approvals: 6407.4, Epsilon: 0.760\n"
          ]
        },
        {
          "name": "stderr",
          "output_type": "stream",
          "text": [
            " 56%|█████▌    | 560/1000 [1:01:50<47:15,  6.44s/it]"
          ]
        },
        {
          "name": "stdout",
          "output_type": "stream",
          "text": [
            "Episode 560/1000 - Avg Reward: 38636.78, Avg Profit: $44790675.82, Avg Approvals: 6399.9, Epsilon: 0.756\n"
          ]
        },
        {
          "name": "stderr",
          "output_type": "stream",
          "text": [
            " 57%|█████▋    | 570/1000 [1:02:54<46:14,  6.45s/it]"
          ]
        },
        {
          "name": "stdout",
          "output_type": "stream",
          "text": [
            "Episode 570/1000 - Avg Reward: 39172.40, Avg Profit: $45216701.44, Avg Approvals: 6424.9, Epsilon: 0.752\n"
          ]
        },
        {
          "name": "stderr",
          "output_type": "stream",
          "text": [
            " 58%|█████▊    | 580/1000 [1:03:59<45:18,  6.47s/it]"
          ]
        },
        {
          "name": "stdout",
          "output_type": "stream",
          "text": [
            "Episode 580/1000 - Avg Reward: 39421.17, Avg Profit: $45383270.48, Avg Approvals: 6434.2, Epsilon: 0.748\n"
          ]
        },
        {
          "name": "stderr",
          "output_type": "stream",
          "text": [
            " 59%|█████▉    | 590/1000 [1:05:04<44:18,  6.48s/it]"
          ]
        },
        {
          "name": "stdout",
          "output_type": "stream",
          "text": [
            "Episode 590/1000 - Avg Reward: 39116.15, Avg Profit: $45185346.44, Avg Approvals: 6417.4, Epsilon: 0.744\n"
          ]
        },
        {
          "name": "stderr",
          "output_type": "stream",
          "text": [
            " 60%|██████    | 600/1000 [1:06:09<43:18,  6.50s/it]"
          ]
        },
        {
          "name": "stdout",
          "output_type": "stream",
          "text": [
            "Episode 600/1000 - Avg Reward: 39273.71, Avg Profit: $45294906.37, Avg Approvals: 6434.0, Epsilon: 0.741\n"
          ]
        },
        {
          "name": "stderr",
          "output_type": "stream",
          "text": [
            " 61%|██████    | 610/1000 [1:07:14<41:57,  6.46s/it]"
          ]
        },
        {
          "name": "stdout",
          "output_type": "stream",
          "text": [
            "Episode 610/1000 - Avg Reward: 39655.05, Avg Profit: $45562648.98, Avg Approvals: 6446.5, Epsilon: 0.737\n"
          ]
        },
        {
          "name": "stderr",
          "output_type": "stream",
          "text": [
            " 62%|██████▏   | 620/1000 [1:08:18<40:50,  6.45s/it]"
          ]
        },
        {
          "name": "stdout",
          "output_type": "stream",
          "text": [
            "Episode 620/1000 - Avg Reward: 40174.78, Avg Profit: $46072180.47, Avg Approvals: 6456.1, Epsilon: 0.733\n"
          ]
        },
        {
          "name": "stderr",
          "output_type": "stream",
          "text": [
            " 63%|██████▎   | 630/1000 [1:09:23<39:54,  6.47s/it]"
          ]
        },
        {
          "name": "stdout",
          "output_type": "stream",
          "text": [
            "Episode 630/1000 - Avg Reward: 39956.59, Avg Profit: $45819390.49, Avg Approvals: 6463.3, Epsilon: 0.730\n"
          ]
        },
        {
          "name": "stderr",
          "output_type": "stream",
          "text": [
            " 64%|██████▍   | 640/1000 [1:10:28<38:43,  6.45s/it]"
          ]
        },
        {
          "name": "stdout",
          "output_type": "stream",
          "text": [
            "Episode 640/1000 - Avg Reward: 40788.93, Avg Profit: $46545330.72, Avg Approvals: 6468.2, Epsilon: 0.726\n"
          ]
        },
        {
          "name": "stderr",
          "output_type": "stream",
          "text": [
            " 65%|██████▌   | 650/1000 [1:11:32<37:39,  6.46s/it]"
          ]
        },
        {
          "name": "stdout",
          "output_type": "stream",
          "text": [
            "Episode 650/1000 - Avg Reward: 40194.46, Avg Profit: $45977563.05, Avg Approvals: 6476.3, Epsilon: 0.722\n"
          ]
        },
        {
          "name": "stderr",
          "output_type": "stream",
          "text": [
            " 66%|██████▌   | 660/1000 [1:12:38<37:01,  6.53s/it]"
          ]
        },
        {
          "name": "stdout",
          "output_type": "stream",
          "text": [
            "Episode 660/1000 - Avg Reward: 40905.16, Avg Profit: $46642560.93, Avg Approvals: 6469.9, Epsilon: 0.719\n"
          ]
        },
        {
          "name": "stderr",
          "output_type": "stream",
          "text": [
            " 67%|██████▋   | 670/1000 [1:13:42<35:38,  6.48s/it]"
          ]
        },
        {
          "name": "stdout",
          "output_type": "stream",
          "text": [
            "Episode 670/1000 - Avg Reward: 40633.86, Avg Profit: $46434655.42, Avg Approvals: 6466.6, Epsilon: 0.715\n"
          ]
        },
        {
          "name": "stderr",
          "output_type": "stream",
          "text": [
            " 68%|██████▊   | 680/1000 [1:14:48<34:47,  6.52s/it]"
          ]
        },
        {
          "name": "stdout",
          "output_type": "stream",
          "text": [
            "Episode 680/1000 - Avg Reward: 40616.41, Avg Profit: $46394109.64, Avg Approvals: 6469.4, Epsilon: 0.712\n"
          ]
        },
        {
          "name": "stderr",
          "output_type": "stream",
          "text": [
            " 69%|██████▉   | 690/1000 [1:15:52<33:19,  6.45s/it]"
          ]
        },
        {
          "name": "stdout",
          "output_type": "stream",
          "text": [
            "Episode 690/1000 - Avg Reward: 41425.60, Avg Profit: $47086500.58, Avg Approvals: 6493.6, Epsilon: 0.708\n"
          ]
        },
        {
          "name": "stderr",
          "output_type": "stream",
          "text": [
            " 70%|███████   | 700/1000 [1:16:57<32:13,  6.44s/it]"
          ]
        },
        {
          "name": "stdout",
          "output_type": "stream",
          "text": [
            "Episode 700/1000 - Avg Reward: 41297.11, Avg Profit: $46866012.44, Avg Approvals: 6512.7, Epsilon: 0.705\n"
          ]
        },
        {
          "name": "stderr",
          "output_type": "stream",
          "text": [
            " 71%|███████   | 710/1000 [1:18:02<31:26,  6.50s/it]"
          ]
        },
        {
          "name": "stdout",
          "output_type": "stream",
          "text": [
            "Episode 710/1000 - Avg Reward: 41600.50, Avg Profit: $47130195.20, Avg Approvals: 6519.7, Epsilon: 0.701\n"
          ]
        },
        {
          "name": "stderr",
          "output_type": "stream",
          "text": [
            " 72%|███████▏  | 720/1000 [1:19:07<30:19,  6.50s/it]"
          ]
        },
        {
          "name": "stdout",
          "output_type": "stream",
          "text": [
            "Episode 720/1000 - Avg Reward: 41403.33, Avg Profit: $47048130.46, Avg Approvals: 6501.3, Epsilon: 0.698\n"
          ]
        },
        {
          "name": "stderr",
          "output_type": "stream",
          "text": [
            " 73%|███████▎  | 730/1000 [1:20:12<29:18,  6.51s/it]"
          ]
        },
        {
          "name": "stdout",
          "output_type": "stream",
          "text": [
            "Episode 730/1000 - Avg Reward: 42187.81, Avg Profit: $47713809.20, Avg Approvals: 6514.7, Epsilon: 0.694\n"
          ]
        },
        {
          "name": "stderr",
          "output_type": "stream",
          "text": [
            " 74%|███████▍  | 740/1000 [1:21:17<28:19,  6.54s/it]"
          ]
        },
        {
          "name": "stdout",
          "output_type": "stream",
          "text": [
            "Episode 740/1000 - Avg Reward: 42092.31, Avg Profit: $47674205.63, Avg Approvals: 6508.0, Epsilon: 0.691\n"
          ]
        },
        {
          "name": "stderr",
          "output_type": "stream",
          "text": [
            " 75%|███████▌  | 750/1000 [1:22:22<27:09,  6.52s/it]"
          ]
        },
        {
          "name": "stdout",
          "output_type": "stream",
          "text": [
            "Episode 750/1000 - Avg Reward: 42450.25, Avg Profit: $47977254.54, Avg Approvals: 6514.5, Epsilon: 0.687\n"
          ]
        },
        {
          "name": "stderr",
          "output_type": "stream",
          "text": [
            " 76%|███████▌  | 760/1000 [1:23:28<26:02,  6.51s/it]"
          ]
        },
        {
          "name": "stdout",
          "output_type": "stream",
          "text": [
            "Episode 760/1000 - Avg Reward: 42455.87, Avg Profit: $47907466.32, Avg Approvals: 6533.5, Epsilon: 0.684\n"
          ]
        },
        {
          "name": "stderr",
          "output_type": "stream",
          "text": [
            " 77%|███████▋  | 770/1000 [1:24:33<25:07,  6.55s/it]"
          ]
        },
        {
          "name": "stdout",
          "output_type": "stream",
          "text": [
            "Episode 770/1000 - Avg Reward: 42464.29, Avg Profit: $47975185.25, Avg Approvals: 6527.8, Epsilon: 0.680\n"
          ]
        },
        {
          "name": "stderr",
          "output_type": "stream",
          "text": [
            " 78%|███████▊  | 780/1000 [1:25:38<23:43,  6.47s/it]"
          ]
        },
        {
          "name": "stdout",
          "output_type": "stream",
          "text": [
            "Episode 780/1000 - Avg Reward: 42539.36, Avg Profit: $47933960.76, Avg Approvals: 6558.9, Epsilon: 0.677\n"
          ]
        },
        {
          "name": "stderr",
          "output_type": "stream",
          "text": [
            " 79%|███████▉  | 790/1000 [1:26:43<22:44,  6.50s/it]"
          ]
        },
        {
          "name": "stdout",
          "output_type": "stream",
          "text": [
            "Episode 790/1000 - Avg Reward: 42871.59, Avg Profit: $48254693.37, Avg Approvals: 6547.9, Epsilon: 0.674\n"
          ]
        },
        {
          "name": "stderr",
          "output_type": "stream",
          "text": [
            " 80%|████████  | 800/1000 [1:27:48<21:33,  6.47s/it]"
          ]
        },
        {
          "name": "stdout",
          "output_type": "stream",
          "text": [
            "Episode 800/1000 - Avg Reward: 42579.83, Avg Profit: $48007426.69, Avg Approvals: 6548.8, Epsilon: 0.670\n"
          ]
        },
        {
          "name": "stderr",
          "output_type": "stream",
          "text": [
            " 81%|████████  | 810/1000 [1:28:53<20:32,  6.49s/it]"
          ]
        },
        {
          "name": "stdout",
          "output_type": "stream",
          "text": [
            "Episode 810/1000 - Avg Reward: 43242.97, Avg Profit: $48588566.85, Avg Approvals: 6561.0, Epsilon: 0.667\n"
          ]
        },
        {
          "name": "stderr",
          "output_type": "stream",
          "text": [
            " 82%|████████▏ | 820/1000 [1:29:58<19:22,  6.46s/it]"
          ]
        },
        {
          "name": "stdout",
          "output_type": "stream",
          "text": [
            "Episode 820/1000 - Avg Reward: 43237.80, Avg Profit: $48673998.20, Avg Approvals: 6536.3, Epsilon: 0.664\n"
          ]
        },
        {
          "name": "stderr",
          "output_type": "stream",
          "text": [
            " 83%|████████▎ | 830/1000 [1:31:03<18:29,  6.53s/it]"
          ]
        },
        {
          "name": "stdout",
          "output_type": "stream",
          "text": [
            "Episode 830/1000 - Avg Reward: 43450.08, Avg Profit: $48639784.37, Avg Approvals: 6586.3, Epsilon: 0.660\n"
          ]
        },
        {
          "name": "stderr",
          "output_type": "stream",
          "text": [
            " 84%|████████▍ | 840/1000 [1:32:08<17:23,  6.52s/it]"
          ]
        },
        {
          "name": "stdout",
          "output_type": "stream",
          "text": [
            "Episode 840/1000 - Avg Reward: 43394.23, Avg Profit: $48624725.12, Avg Approvals: 6592.0, Epsilon: 0.657\n"
          ]
        },
        {
          "name": "stderr",
          "output_type": "stream",
          "text": [
            " 85%|████████▌ | 850/1000 [1:33:13<16:18,  6.53s/it]"
          ]
        },
        {
          "name": "stdout",
          "output_type": "stream",
          "text": [
            "Episode 850/1000 - Avg Reward: 43962.84, Avg Profit: $49190640.49, Avg Approvals: 6584.0, Epsilon: 0.654\n"
          ]
        },
        {
          "name": "stderr",
          "output_type": "stream",
          "text": [
            " 86%|████████▌ | 860/1000 [1:34:19<15:28,  6.63s/it]"
          ]
        },
        {
          "name": "stdout",
          "output_type": "stream",
          "text": [
            "Episode 860/1000 - Avg Reward: 44285.57, Avg Profit: $49423666.12, Avg Approvals: 6605.3, Epsilon: 0.650\n"
          ]
        },
        {
          "name": "stderr",
          "output_type": "stream",
          "text": [
            " 87%|████████▋ | 870/1000 [1:35:24<14:08,  6.52s/it]"
          ]
        },
        {
          "name": "stdout",
          "output_type": "stream",
          "text": [
            "Episode 870/1000 - Avg Reward: 44269.13, Avg Profit: $49396331.07, Avg Approvals: 6600.2, Epsilon: 0.647\n"
          ]
        },
        {
          "name": "stderr",
          "output_type": "stream",
          "text": [
            " 88%|████████▊ | 880/1000 [1:36:29<13:03,  6.53s/it]"
          ]
        },
        {
          "name": "stdout",
          "output_type": "stream",
          "text": [
            "Episode 880/1000 - Avg Reward: 44399.29, Avg Profit: $49517493.77, Avg Approvals: 6611.8, Epsilon: 0.644\n"
          ]
        },
        {
          "name": "stderr",
          "output_type": "stream",
          "text": [
            " 89%|████████▉ | 890/1000 [1:37:34<11:55,  6.50s/it]"
          ]
        },
        {
          "name": "stdout",
          "output_type": "stream",
          "text": [
            "Episode 890/1000 - Avg Reward: 44644.62, Avg Profit: $49755221.85, Avg Approvals: 6607.3, Epsilon: 0.641\n"
          ]
        },
        {
          "name": "stderr",
          "output_type": "stream",
          "text": [
            " 90%|█████████ | 900/1000 [1:38:39<10:50,  6.51s/it]"
          ]
        },
        {
          "name": "stdout",
          "output_type": "stream",
          "text": [
            "Episode 900/1000 - Avg Reward: 45268.76, Avg Profit: $50248164.94, Avg Approvals: 6633.4, Epsilon: 0.638\n"
          ]
        },
        {
          "name": "stderr",
          "output_type": "stream",
          "text": [
            " 91%|█████████ | 910/1000 [1:39:45<09:50,  6.56s/it]"
          ]
        },
        {
          "name": "stdout",
          "output_type": "stream",
          "text": [
            "Episode 910/1000 - Avg Reward: 44794.64, Avg Profit: $49776543.51, Avg Approvals: 6637.8, Epsilon: 0.634\n"
          ]
        },
        {
          "name": "stderr",
          "output_type": "stream",
          "text": [
            " 92%|█████████▏| 920/1000 [1:40:50<08:42,  6.53s/it]"
          ]
        },
        {
          "name": "stdout",
          "output_type": "stream",
          "text": [
            "Episode 920/1000 - Avg Reward: 45128.50, Avg Profit: $50094697.75, Avg Approvals: 6627.5, Epsilon: 0.631\n"
          ]
        },
        {
          "name": "stderr",
          "output_type": "stream",
          "text": [
            " 93%|█████████▎| 930/1000 [1:41:55<07:34,  6.50s/it]"
          ]
        },
        {
          "name": "stdout",
          "output_type": "stream",
          "text": [
            "Episode 930/1000 - Avg Reward: 44995.12, Avg Profit: $49986120.85, Avg Approvals: 6623.8, Epsilon: 0.628\n"
          ]
        },
        {
          "name": "stderr",
          "output_type": "stream",
          "text": [
            " 94%|█████████▍| 940/1000 [1:43:00<06:30,  6.50s/it]"
          ]
        },
        {
          "name": "stdout",
          "output_type": "stream",
          "text": [
            "Episode 940/1000 - Avg Reward: 45389.26, Avg Profit: $50394663.04, Avg Approvals: 6624.0, Epsilon: 0.625\n"
          ]
        },
        {
          "name": "stderr",
          "output_type": "stream",
          "text": [
            " 95%|█████████▌| 950/1000 [1:44:05<05:25,  6.52s/it]"
          ]
        },
        {
          "name": "stdout",
          "output_type": "stream",
          "text": [
            "Episode 950/1000 - Avg Reward: 45411.78, Avg Profit: $50381577.22, Avg Approvals: 6625.1, Epsilon: 0.622\n"
          ]
        },
        {
          "name": "stderr",
          "output_type": "stream",
          "text": [
            " 96%|█████████▌| 960/1000 [1:45:11<04:19,  6.50s/it]"
          ]
        },
        {
          "name": "stdout",
          "output_type": "stream",
          "text": [
            "Episode 960/1000 - Avg Reward: 45824.64, Avg Profit: $50786941.24, Avg Approvals: 6629.4, Epsilon: 0.619\n"
          ]
        },
        {
          "name": "stderr",
          "output_type": "stream",
          "text": [
            " 97%|█████████▋| 970/1000 [1:46:15<03:13,  6.45s/it]"
          ]
        },
        {
          "name": "stdout",
          "output_type": "stream",
          "text": [
            "Episode 970/1000 - Avg Reward: 46003.17, Avg Profit: $50896067.29, Avg Approvals: 6636.0, Epsilon: 0.616\n"
          ]
        },
        {
          "name": "stderr",
          "output_type": "stream",
          "text": [
            " 98%|█████████▊| 980/1000 [1:47:20<02:09,  6.47s/it]"
          ]
        },
        {
          "name": "stdout",
          "output_type": "stream",
          "text": [
            "Episode 980/1000 - Avg Reward: 46012.34, Avg Profit: $50858542.78, Avg Approvals: 6657.8, Epsilon: 0.613\n"
          ]
        },
        {
          "name": "stderr",
          "output_type": "stream",
          "text": [
            " 99%|█████████▉| 990/1000 [1:48:24<01:04,  6.45s/it]"
          ]
        },
        {
          "name": "stdout",
          "output_type": "stream",
          "text": [
            "Episode 990/1000 - Avg Reward: 46142.20, Avg Profit: $50975197.15, Avg Approvals: 6663.1, Epsilon: 0.609\n"
          ]
        },
        {
          "name": "stderr",
          "output_type": "stream",
          "text": [
            "100%|██████████| 1000/1000 [1:49:29<00:00,  6.57s/it]"
          ]
        },
        {
          "name": "stdout",
          "output_type": "stream",
          "text": [
            "Episode 1000/1000 - Avg Reward: 45946.70, Avg Profit: $50786502.26, Avg Approvals: 6658.8, Epsilon: 0.606\n"
          ]
        },
        {
          "name": "stderr",
          "output_type": "stream",
          "text": [
            "\n"
          ]
        }
      ],
      "source": [
        "# =============================================================================\n",
        "# CELL 13: Train DQN Agent (IMPROVED VERSION)\n",
        "# =============================================================================\n",
        "# Changes:\n",
        "# - Larger replay buffer (20000) for more experience diversity\n",
        "# - Smaller batch size (32) for more frequent updates\n",
        "# - More frequent target updates (5) for better learning\n",
        "# - FIXED: 1000 episodes (was 100) - DQN needs even more episodes!\n",
        "\n",
        "# Initialize DQN agent\n",
        "dqn_agent = DQNAgent(\n",
        "    state_dim=train_env.get_state_dim(),\n",
        "    action_dim=train_env.get_action_dim(),\n",
        "    learning_rate=0.001,\n",
        "    gamma=0.95,\n",
        "    epsilon=1.0,\n",
        "    epsilon_decay=0.9995,       # FIXED: Slower decay for 1000 episodes\n",
        "    epsilon_min=0.01,\n",
        "    buffer_size=20000,          # Was 10000 (more experience)\n",
        "    batch_size=32,              # Was 64 (more updates)\n",
        "    target_update_freq=5        # Was 10 (more frequent updates)\n",
        ")\n",
        "\n",
        "# Train DQN agent\n",
        "print(\"Training with FIXED hyperparameters:\")\n",
        "print(\"- FIXED: 1000 episodes (was 100) - DQN needs even more episodes!\")\n",
        "print(\"- Larger buffer: 20000 (was 10000)\")\n",
        "print(\"- Smaller batch: 32 (was 64)\")\n",
        "print(\"- More frequent target updates: 5 (was 10)\")\n",
        "\n",
        "dqn_agent, dqn_history = train_agent(\n",
        "    dqn_agent,\n",
        "    train_env,\n",
        "    n_episodes=1000,  # FIXED: Was 100 - way too few for DQN!\n",
        "    agent_name=\"DQN\"\n",
        ")"
      ]
    },
    {
      "cell_type": "code",
      "execution_count": 21,
      "metadata": {
        "colab": {
          "base_uri": "https://localhost:8080/",
          "height": 1000
        },
        "id": "DMwueFE8_UOk",
        "outputId": "91018208-6761-402e-d6b7-4a5d6305bd01"
      },
      "outputs": [
        {
          "data": {
            "image/png": "[encoded data removed]",
            "text/plain": [
              "<Figure size 1500x1000 with 4 Axes>"
            ]
          },
          "metadata": {},
          "output_type": "display_data"
        }
      ],
      "source": [
        "# =============================================================================\n",
        "# CELL 14: Visualize Training Progress\n",
        "# =============================================================================\n",
        "\n",
        "# Plot training curves\n",
        "fig, axes = plt.subplots(2, 2, figsize=(15, 10))\n",
        "\n",
        "# Rewards\n",
        "axes[0, 0].plot(qlearning_history['rewards'], label='Q-Learning', alpha=0.7)\n",
        "axes[0, 0].plot(dqn_history['rewards'], label='DQN', alpha=0.7)\n",
        "axes[0, 0].set_title('Episode Rewards')\n",
        "axes[0, 0].set_xlabel('Episode')\n",
        "axes[0, 0].set_ylabel('Total Reward')\n",
        "axes[0, 0].legend()\n",
        "axes[0, 0].grid(True, alpha=0.3)\n",
        "\n",
        "# Profits\n",
        "axes[0, 1].plot(qlearning_history['profits'], label='Q-Learning', alpha=0.7)\n",
        "axes[0, 1].plot(dqn_history['profits'], label='DQN', alpha=0.7)\n",
        "axes[0, 1].set_title('Episode Profits')\n",
        "axes[0, 1].set_xlabel('Episode')\n",
        "axes[0, 1].set_ylabel('Total Profit ($)')\n",
        "axes[0, 1].legend()\n",
        "axes[0, 1].grid(True, alpha=0.3)\n",
        "\n",
        "# Approvals\n",
        "axes[1, 0].plot(qlearning_history['approvals'], label='Q-Learning', alpha=0.7)\n",
        "axes[1, 0].plot(dqn_history['approvals'], label='DQN', alpha=0.7)\n",
        "axes[1, 0].set_title('Number of Approvals per Episode')\n",
        "axes[1, 0].set_xlabel('Episode')\n",
        "axes[1, 0].set_ylabel('Number of Approvals')\n",
        "axes[1, 0].legend()\n",
        "axes[1, 0].grid(True, alpha=0.3)\n",
        "\n",
        "# Moving average rewards (smoothed)\n",
        "window = 5\n",
        "qlearning_ma = pd.Series(qlearning_history['rewards']).rolling(window=window).mean()\n",
        "dqn_ma = pd.Series(dqn_history['rewards']).rolling(window=window).mean()\n",
        "axes[1, 1].plot(qlearning_ma, label='Q-Learning (MA)', linewidth=2)\n",
        "axes[1, 1].plot(dqn_ma, label='DQN (MA)', linewidth=2)\n",
        "axes[1, 1].set_title(f'Smoothed Rewards (Moving Average, window={window})')\n",
        "axes[1, 1].set_xlabel('Episode')\n",
        "axes[1, 1].set_ylabel('Average Reward')\n",
        "axes[1, 1].legend()\n",
        "axes[1, 1].grid(True, alpha=0.3)\n",
        "\n",
        "plt.tight_layout()\n",
        "plt.show()\n"
      ]
    },
    {
      "cell_type": "code",
      "execution_count": 22,
      "metadata": {
        "colab": {
          "base_uri": "https://localhost:8080/"
        },
        "id": "UJ8MFXWQ_XIH",
        "outputId": "40d57115-5d8e-4af8-e531-06f08de67307"
      },
      "outputs": [
        {
          "name": "stdout",
          "output_type": "stream",
          "text": [
            "\n",
            "============================================================\n",
            "Q-Learning Evaluation Results\n",
            "============================================================\n",
            "Total Reward: -7817.07\n",
            "Total Profit: $87934.46\n",
            "Number of Approvals: 13 (0.7%)\n",
            "Number of Rejections: 1987 (99.4%)\n",
            "Number of Defaults (among approved): 2 (15.4%)\n",
            "Correct Approvals (no default): 11\n",
            "Correct Rejections (would default): 290\n",
            "Approval Accuracy: 84.6%\n",
            "============================================================\n",
            "\n"
          ]
        }
      ],
      "source": [
        "# =============================================================================\n",
        "# CELL 15: Evaluate Q-Learning Agent\n",
        "# =============================================================================\n",
        "\n",
        "# Evaluate Q-Learning agent on test set\n",
        "qlearning_results = evaluate_agent(qlearning_agent, test_env, agent_name=\"Q-Learning\")\n",
        "\n",
        "\n",
        "\n",
        "\n"
      ]
    },
    {
      "cell_type": "code",
      "execution_count": 23,
      "metadata": {
        "colab": {
          "base_uri": "https://localhost:8080/"
        },
        "id": "dVCEUDa1_eBs",
        "outputId": "240fb65f-6f4b-43a8-a2c3-e59c381ac977"
      },
      "outputs": [
        {
          "name": "stdout",
          "output_type": "stream",
          "text": [
            "\n",
            "============================================================\n",
            "DQN Evaluation Results\n",
            "============================================================\n",
            "Total Reward: 14224.11\n",
            "Total Profit: $14352114.20\n",
            "Number of Approvals: 1959 (98.0%)\n",
            "Number of Rejections: 41 (2.1%)\n",
            "Number of Defaults (among approved): 281 (14.3%)\n",
            "Correct Approvals (no default): 1678\n",
            "Correct Rejections (would default): 11\n",
            "Approval Accuracy: 85.7%\n",
            "============================================================\n",
            "\n"
          ]
        }
      ],
      "source": [
        "# =============================================================================\n",
        "# CELL 16: Evaluate DQN Agent\n",
        "# =============================================================================\n",
        "\n",
        "# Evaluate DQN agent on test set\n",
        "dqn_results = evaluate_agent(dqn_agent, test_env, agent_name=\"DQN\")\n",
        "\n"
      ]
    },
    {
      "cell_type": "code",
      "execution_count": 25,
      "metadata": {
        "colab": {
          "base_uri": "https://localhost:8080/"
        },
        "id": "uPQCKoWD_exg",
        "outputId": "af525fbf-fbdb-48ff-b560-310c9ddb6691"
      },
      "outputs": [
        {
          "name": "stdout",
          "output_type": "stream",
          "text": [
            "\n",
            "============================================================\n",
            "Random Policy Evaluation Results\n",
            "============================================================\n",
            "Total Reward: 6705.34\n",
            "Total Profit: $8561340.91\n",
            "Number of Approvals: 1521 (76.0%)\n",
            "Number of Rejections: 479 (23.9%)\n",
            "Number of Defaults (among approved): 215 (14.1%)\n",
            "Correct Approvals (no default): 1306\n",
            "Correct Rejections (would default): 77\n",
            "Approval Accuracy: 85.9%\n",
            "============================================================\n",
            "\n"
          ]
        }
      ],
      "source": [
        "# =============================================================================\n",
        "# CELL 17: Baseline Comparison (Random Policy)\n",
        "# =============================================================================\n",
        "\n",
        "# Create a simple random policy for baseline comparison\n",
        "class RandomAgent:\n",
        "    def __init__(self, action_dim):\n",
        "        self.action_dim = action_dim\n",
        "\n",
        "    def get_action(self, state, training=False):\n",
        "        return np.random.randint(0, self.action_dim)\n",
        "\n",
        "random_agent = RandomAgent(test_env.get_action_dim())\n",
        "random_results = evaluate_agent(random_agent, test_env, agent_name=\"Random Policy\")\n"
      ]
    },
    {
      "cell_type": "code",
      "execution_count": 26,
      "metadata": {
        "colab": {
          "base_uri": "https://localhost:8080/"
        },
        "id": "PNDPuM_9_hbd",
        "outputId": "370cd838-6491-44fd-ab56-3ae0c5320383"
      },
      "outputs": [
        {
          "name": "stdout",
          "output_type": "stream",
          "text": [
            "\n",
            "============================================================\n",
            "Always Approve Evaluation Results\n",
            "============================================================\n",
            "Total Reward: 10811.68\n",
            "Total Profit: $10811681.11\n",
            "Number of Approvals: 2000 (100.0%)\n",
            "Number of Rejections: 0 (0.0%)\n",
            "Number of Defaults (among approved): 292 (14.6%)\n",
            "Correct Approvals (no default): 1708\n",
            "Correct Rejections (would default): 0\n",
            "Approval Accuracy: 85.4%\n",
            "============================================================\n",
            "\n"
          ]
        }
      ],
      "source": [
        "# =============================================================================\n",
        "# CELL 18: Baseline Comparison (Always Approve)\n",
        "# =============================================================================\n",
        "\n",
        "# Create an \"always approve\" policy for baseline comparison\n",
        "class AlwaysApproveAgent:\n",
        "    def get_action(self, state, training=False):\n",
        "        return 2  # Always approve with standard amount\n",
        "\n",
        "always_approve_agent = AlwaysApproveAgent()\n",
        "always_approve_results = evaluate_agent(always_approve_agent, test_env, agent_name=\"Always Approve\")\n",
        "\n"
      ]
    },
    {
      "cell_type": "code",
      "execution_count": 28,
      "metadata": {
        "colab": {
          "base_uri": "https://localhost:8080/"
        },
        "id": "Y2ZtW-_c_klp",
        "outputId": "0489692f-bc99-484d-f015-55362769e0a4"
      },
      "outputs": [
        {
          "name": "stdout",
          "output_type": "stream",
          "text": [
            "\n",
            "============================================================\n",
            "Conservative Policy Evaluation Results\n",
            "============================================================\n",
            "Total Reward: 5537.51\n",
            "Total Profit: $7957507.71\n",
            "Number of Approvals: 1355 (67.8%)\n",
            "Number of Rejections: 645 (32.2%)\n",
            "Number of Defaults (among approved): 177 (13.1%)\n",
            "Correct Approvals (no default): 1178\n",
            "Correct Rejections (would default): 115\n",
            "Approval Accuracy: 86.9%\n",
            "============================================================\n",
            "\n"
          ]
        }
      ],
      "source": [
        "# =============================================================================\n",
        "# CELL 19: Baseline Comparison (Conservative Policy) - IMPROVED VERSION\n",
        "# =============================================================================\n",
        "# Updated to match new action space: [0%, 50%, 75%, 100%]\n",
        "\n",
        "# Create a conservative policy based on simple rules\n",
        "class ConservativeAgent:\n",
        "    def __init__(self, scaler):\n",
        "        self.scaler = scaler\n",
        "\n",
        "    def get_action(self, state, training=False):\n",
        "        # Denormalize credit score and debt-to-income ratio\n",
        "        credit_score = state[1] * self.scaler.scale_[1] + self.scaler.mean_[1]\n",
        "        debt_to_income = state[3] * self.scaler.scale_[3] + self.scaler.mean_[3]\n",
        "\n",
        "        # Simple rule-based policy (UPDATED for new actions)\n",
        "        # Actions: 0=Reject, 1=Approve 50%, 2=Approve 75%, 3=Approve 100%\n",
        "        if credit_score < 600 or debt_to_income > 0.45:\n",
        "            return 0  # Reject - too risky\n",
        "        elif credit_score < 680:\n",
        "            return 1  # Approve 50% - cautious\n",
        "        elif credit_score < 730:\n",
        "            return 2  # Approve 75% - moderate\n",
        "        else:\n",
        "            return 3  # Approve 100% - good credit\n",
        "\n",
        "conservative_agent = ConservativeAgent(test_env.scaler)\n",
        "conservative_results = evaluate_agent(conservative_agent, test_env, agent_name=\"Conservative Policy\")\n",
        "\n",
        "\n"
      ]
    },
    {
      "cell_type": "code",
      "execution_count": 29,
      "metadata": {
        "colab": {
          "base_uri": "https://localhost:8080/",
          "height": 698
        },
        "id": "rVVgwxD1_n1o",
        "outputId": "4b51a742-ba31-4afa-b9bd-a84bb8401f4f"
      },
      "outputs": [
        {
          "name": "stdout",
          "output_type": "stream",
          "text": [
            "\n",
            "================================================================================\n",
            "MODEL COMPARISON\n",
            "================================================================================\n",
            "         Model  Total Reward  Total Profit  Approvals  Defaults  Approval Rate  Default Rate\n",
            "    Q-Learning  -7817.065542  8.793446e+04         13         2           0.65     15.384615\n",
            "           DQN  14224.114199  1.435211e+07       1959       281          97.95     14.344053\n",
            "        Random   6705.340906  8.561341e+06       1521       215          76.05     14.135437\n",
            "Always Approve  10811.681108  1.081168e+07       2000       292         100.00     14.600000\n",
            "  Conservative   5537.507709  7.957508e+06       1355       177          67.75     13.062731\n",
            "================================================================================\n"
          ]
        },
        {
          "data": {
            "image/png": "[encoded data removed]",
            "text/plain": [
              "<Figure size 1800x500 with 3 Axes>"
            ]
          },
          "metadata": {},
          "output_type": "display_data"
        }
      ],
      "source": [
        "# =============================================================================\n",
        "# CELL 20: Compare All Models\n",
        "# =============================================================================\n",
        "\n",
        "# Create comparison dataframe\n",
        "comparison_data = {\n",
        "    'Model': ['Q-Learning', 'DQN', 'Random', 'Always Approve', 'Conservative'],\n",
        "    'Total Reward': [\n",
        "        qlearning_results['total_reward'],\n",
        "        dqn_results['total_reward'],\n",
        "        random_results['total_reward'],\n",
        "        always_approve_results['total_reward'],\n",
        "        conservative_results['total_reward']\n",
        "    ],\n",
        "    'Total Profit': [\n",
        "        qlearning_results['total_profit'],\n",
        "        dqn_results['total_profit'],\n",
        "        random_results['total_profit'],\n",
        "        always_approve_results['total_profit'],\n",
        "        conservative_results['total_profit']\n",
        "    ],\n",
        "    'Approvals': [\n",
        "        qlearning_results['n_approvals'],\n",
        "        dqn_results['n_approvals'],\n",
        "        random_results['n_approvals'],\n",
        "        always_approve_results['n_approvals'],\n",
        "        conservative_results['n_approvals']\n",
        "    ],\n",
        "    'Defaults': [\n",
        "        qlearning_results['n_defaults'],\n",
        "        dqn_results['n_defaults'],\n",
        "        random_results['n_defaults'],\n",
        "        always_approve_results['n_defaults'],\n",
        "        conservative_results['n_defaults']\n",
        "    ],\n",
        "}\n",
        "\n",
        "comparison_df = pd.DataFrame(comparison_data)\n",
        "comparison_df['Approval Rate'] = comparison_df['Approvals'] / len(test_data) * 100\n",
        "comparison_df['Default Rate'] = comparison_df['Defaults'] / comparison_df['Approvals'] * 100\n",
        "\n",
        "print(\"\\n\" + \"=\"*80)\n",
        "print(\"MODEL COMPARISON\")\n",
        "print(\"=\"*80)\n",
        "print(comparison_df.to_string(index=False))\n",
        "print(\"=\"*80)\n",
        "\n",
        "# Visualize comparison\n",
        "fig, axes = plt.subplots(1, 3, figsize=(18, 5))\n",
        "\n",
        "# Total Profit Comparison\n",
        "axes[0].bar(comparison_df['Model'], comparison_df['Total Profit'],\n",
        "           color=['#1f77b4', '#ff7f0e', '#2ca02c', '#d62728', '#9467bd'])\n",
        "axes[0].set_title('Total Profit Comparison', fontsize=14, fontweight='bold')\n",
        "axes[0].set_ylabel('Total Profit ($)', fontsize=12)\n",
        "axes[0].tick_params(axis='x', rotation=45)\n",
        "axes[0].grid(True, alpha=0.3)\n",
        "\n",
        "# Approval Rate Comparison\n",
        "axes[1].bar(comparison_df['Model'], comparison_df['Approval Rate'],\n",
        "           color=['#1f77b4', '#ff7f0e', '#2ca02c', '#d62728', '#9467bd'])\n",
        "axes[1].set_title('Approval Rate Comparison', fontsize=14, fontweight='bold')\n",
        "axes[1].set_ylabel('Approval Rate (%)', fontsize=12)\n",
        "axes[1].tick_params(axis='x', rotation=45)\n",
        "axes[1].grid(True, alpha=0.3)\n",
        "\n",
        "# Default Rate Comparison\n",
        "axes[2].bar(comparison_df['Model'], comparison_df['Default Rate'],\n",
        "           color=['#1f77b4', '#ff7f0e', '#2ca02c', '#d62728', '#9467bd'])\n",
        "axes[2].set_title('Default Rate Comparison (among approved)', fontsize=14, fontweight='bold')\n",
        "axes[2].set_ylabel('Default Rate (%)', fontsize=12)\n",
        "axes[2].tick_params(axis='x', rotation=45)\n",
        "axes[2].grid(True, alpha=0.3)\n",
        "\n",
        "plt.tight_layout()\n",
        "plt.show()\n",
        "\n"
      ]
    },
    {
      "cell_type": "code",
      "execution_count": 30,
      "metadata": {
        "colab": {
          "base_uri": "https://localhost:8080/",
          "height": 750
        },
        "id": "Cu-eXjPs_oZa",
        "outputId": "694a819c-81f9-4ea5-9645-2766efc22837"
      },
      "outputs": [
        {
          "data": {
            "image/png": "[encoded data removed]",
            "text/plain": [
              "<Figure size 1500x500 with 2 Axes>"
            ]
          },
          "metadata": {},
          "output_type": "display_data"
        },
        {
          "name": "stdout",
          "output_type": "stream",
          "text": [
            "\n",
            "Action Distribution:\n",
            "\n",
            "Q-Learning:\n",
            "  Reject: 1987 (99.4%)\n",
            "  Approve 50%: 0 (0.0%)\n",
            "  Approve 75%: 1 (0.1%)\n",
            "  Approve 100%: 12 (0.6%)\n",
            "\n",
            "DQN:\n",
            "  Reject: 41 (2.1%)\n",
            "  Approve 50%: 3 (0.1%)\n",
            "  Approve 75%: 7 (0.4%)\n",
            "  Approve 100%: 1949 (97.5%)\n"
          ]
        }
      ],
      "source": [
        "# =============================================================================\n",
        "# CELL 21: Action Distribution Analysis (VERSION)\n",
        "# =============================================================================\n",
        "# Updated action names to match new multipliers: [0%, 50%, 75%, 100%]\n",
        "\n",
        "# Analyze action distributions\n",
        "action_names = ['Reject', 'Approve 50%', 'Approve 75%', 'Approve 100%']  # UPDATED\n",
        "\n",
        "fig, axes = plt.subplots(1, 2, figsize=(15, 5))\n",
        "\n",
        "# Q-Learning action distribution\n",
        "qlearning_actions = [d['action'] for d in qlearning_results['decisions']]\n",
        "qlearning_action_counts = [qlearning_actions.count(i) for i in range(4)]\n",
        "axes[0].pie(qlearning_action_counts, labels=action_names, autopct='%1.1f%%', startangle=90)\n",
        "axes[0].set_title('Q-Learning Action Distribution', fontsize=14, fontweight='bold')\n",
        "\n",
        "# DQN action distribution\n",
        "dqn_actions = [d['action'] for d in dqn_results['decisions']]\n",
        "dqn_action_counts = [dqn_actions.count(i) for i in range(4)]\n",
        "axes[1].pie(dqn_action_counts, labels=action_names, autopct='%1.1f%%', startangle=90)\n",
        "axes[1].set_title('DQN Action Distribution', fontsize=14, fontweight='bold')\n",
        "\n",
        "plt.tight_layout()\n",
        "plt.show()\n",
        "\n",
        "print(\"\\nAction Distribution:\")\n",
        "print(\"\\nQ-Learning:\")\n",
        "for i, name in enumerate(action_names):\n",
        "    print(f\"  {name}: {qlearning_action_counts[i]} ({qlearning_action_counts[i]/len(qlearning_actions)*100:.1f}%)\")\n",
        "\n",
        "print(\"\\nDQN:\")\n",
        "for i, name in enumerate(action_names):\n",
        "    print(f\"  {name}: {dqn_action_counts[i]} ({dqn_action_counts[i]/len(dqn_actions)*100:.1f}%)\")\n",
        "\n"
      ]
    },
    {
      "cell_type": "code",
      "execution_count": 31,
      "metadata": {
        "colab": {
          "base_uri": "https://localhost:8080/",
          "height": 676
        },
        "id": "WpJheHF__r2l",
        "outputId": "c2cdf022-3e76-4b96-87e0-47bd3ecbd18e"
      },
      "outputs": [
        {
          "data": {
            "image/png": "[encoded data removed]",
            "text/plain": [
              "<Figure size 1000x600 with 1 Axes>"
            ]
          },
          "metadata": {},
          "output_type": "display_data"
        },
        {
          "name": "stdout",
          "output_type": "stream",
          "text": [
            "\n",
            "Risk-Return Analysis:\n",
            "The ideal position is in the top-left quadrant: Low default rate + High profit\n",
            "Our RL agents should balance these competing objectives.\n"
          ]
        }
      ],
      "source": [
        "# =============================================================================\n",
        "# CELL 22: Risk-Return Analysis\n",
        "# =============================================================================\n",
        "\n",
        "# Risk-return tradeoff visualization\n",
        "plt.figure(figsize=(10, 6))\n",
        "\n",
        "models = ['Q-Learning', 'DQN', 'Random', 'Always Approve', 'Conservative']\n",
        "profits = comparison_df['Total Profit'].values\n",
        "default_rates = comparison_df['Default Rate'].values\n",
        "colors = ['#1f77b4', '#ff7f0e', '#2ca02c', '#d62728', '#9467bd']\n",
        "\n",
        "for i, model in enumerate(models):\n",
        "    plt.scatter(default_rates[i], profits[i], s=200, c=colors[i], label=model, alpha=0.7)\n",
        "    plt.annotate(model, (default_rates[i], profits[i]),\n",
        "                xytext=(10, 10), textcoords='offset points', fontsize=10)\n",
        "\n",
        "plt.xlabel('Default Rate (%) - Lower is Better', fontsize=12)\n",
        "plt.ylabel('Total Profit ($) - Higher is Better', fontsize=12)\n",
        "plt.title('Risk-Return Tradeoff: Default Rate vs Profit', fontsize=14, fontweight='bold')\n",
        "plt.grid(True, alpha=0.3)\n",
        "plt.legend()\n",
        "plt.tight_layout()\n",
        "plt.show()\n",
        "\n",
        "print(\"\\nRisk-Return Analysis:\")\n",
        "print(\"The ideal position is in the top-left quadrant: Low default rate + High profit\")\n",
        "print(\"Our RL agents should balance these competing objectives.\")\n",
        "\n"
      ]
    },
    {
      "cell_type": "code",
      "execution_count": 32,
      "metadata": {
        "colab": {
          "base_uri": "https://localhost:8080/"
        },
        "id": "gYEjG2iQ_saN",
        "outputId": "4c4be5e1-1aee-4c8e-fc03-5e8ebbb1f551"
      },
      "outputs": [
        {
          "name": "stdout",
          "output_type": "stream",
          "text": [
            "\n",
            "================================================================================\n",
            "SUMMARY AND INSIGHTS\n",
            "================================================================================\n",
            "\n",
            "1. MODEL PERFORMANCE:\n",
            "   - Best performing model (by profit): DQN\n",
            "     Profit: $14352114.20\n",
            "\n",
            "   - Lowest default rate: Conservative\n",
            "     Default rate: 13.06%\n",
            "\n",
            "2. REINFORCEMENT LEARNING ADVANTAGES:\n",
            "   - RL agents learn adaptive strategies from experience\n",
            "   - They balance risk (defaults) vs reward (profit) automatically\n",
            "   - DQN can capture complex non-linear patterns in the data\n",
            "   - Q-Learning provides interpretable discrete action policies\n",
            "\n",
            "3. BASELINE COMPARISONS:\n",
            "   - Random policy: Poor performance, high variance\n",
            "   - Always Approve: High approvals but potentially high defaults\n",
            "   - Conservative: Low defaults but may miss profitable opportunities\n",
            "   - RL agents: Optimal balance between approval and risk management\n",
            "\n",
            "4. PRACTICAL APPLICATIONS:\n",
            "   - Credit scoring and loan approval automation\n",
            "   - Dynamic credit limit adjustments\n",
            "   - Risk-based pricing strategies\n",
            "   - Portfolio optimization for financial institutions\n",
            "\n",
            "5. FUTURE IMPROVEMENTS:\n",
            "   - Incorporate more features (payment history, collateral, etc.)\n",
            "   - Use real loan default data\n",
            "   - Implement more advanced RL algorithms (A3C, PPO, SAC)\n",
            "   - Add fairness constraints to avoid discrimination\n",
            "   - Deploy as a real-time decision system\n",
            "================================================================================\n"
          ]
        }
      ],
      "source": [
        "# =============================================================================\n",
        "# CELL 23: Summary and Insights\n",
        "# =============================================================================\n",
        "\n",
        "print(\"\\n\" + \"=\"*80)\n",
        "print(\"SUMMARY AND INSIGHTS\")\n",
        "print(\"=\"*80)\n",
        "print(\"\\n1. MODEL PERFORMANCE:\")\n",
        "print(f\"   - Best performing model (by profit): {comparison_df.loc[comparison_df['Total Profit'].idxmax(), 'Model']}\")\n",
        "print(f\"     Profit: ${comparison_df['Total Profit'].max():.2f}\")\n",
        "print(f\"\\n   - Lowest default rate: {comparison_df.loc[comparison_df['Default Rate'].idxmin(), 'Model']}\")\n",
        "print(f\"     Default rate: {comparison_df['Default Rate'].min():.2f}%\")\n",
        "\n",
        "print(\"\\n2. REINFORCEMENT LEARNING ADVANTAGES:\")\n",
        "print(\"   - RL agents learn adaptive strategies from experience\")\n",
        "print(\"   - They balance risk (defaults) vs reward (profit) automatically\")\n",
        "print(\"   - DQN can capture complex non-linear patterns in the data\")\n",
        "print(\"   - Q-Learning provides interpretable discrete action policies\")\n",
        "\n",
        "print(\"\\n3. BASELINE COMPARISONS:\")\n",
        "print(\"   - Random policy: Poor performance, high variance\")\n",
        "print(\"   - Always Approve: High approvals but potentially high defaults\")\n",
        "print(\"   - Conservative: Low defaults but may miss profitable opportunities\")\n",
        "print(\"   - RL agents: Optimal balance between approval and risk management\")\n",
        "\n",
        "print(\"\\n4. PRACTICAL APPLICATIONS:\")\n",
        "print(\"   - Credit scoring and loan approval automation\")\n",
        "print(\"   - Dynamic credit limit adjustments\")\n",
        "print(\"   - Risk-based pricing strategies\")\n",
        "print(\"   - Portfolio optimization for financial institutions\")\n",
        "\n",
        "print(\"\\n5. FUTURE IMPROVEMENTS:\")\n",
        "print(\"   - Incorporate more features (payment history, collateral, etc.)\")\n",
        "print(\"   - Use real loan default data\")\n",
        "print(\"   - Implement more advanced RL algorithms (A3C, PPO, SAC)\")\n",
        "print(\"   - Add fairness constraints to avoid discrimination\")\n",
        "print(\"   - Deploy as a real-time decision system\")\n",
        "print(\"=\"*80)\n"
      ]
    },
    {
      "cell_type": "code",
      "execution_count": 33,
      "metadata": {
        "colab": {
          "base_uri": "https://localhost:8080/"
        },
        "id": "-P1fxUGw_wQv",
        "outputId": "681d77bc-dd0d-43a4-dbe1-f681b026ea37"
      },
      "outputs": [
        {
          "name": "stdout",
          "output_type": "stream",
          "text": [
            "DQN model saved as 'dqn_loan_model.pth'\n"
          ]
        }
      ],
      "source": [
        "# =============================================================================\n",
        "# CELL 24: Save Trained Models (Optional)\n",
        "# =============================================================================\n",
        "\n",
        "# Save DQN model\n",
        "torch.save({\n",
        "    'policy_net_state_dict': dqn_agent.policy_net.state_dict(),\n",
        "    'target_net_state_dict': dqn_agent.target_net.state_dict(),\n",
        "    'optimizer_state_dict': dqn_agent.optimizer.state_dict(),\n",
        "}, 'dqn_loan_model.pth')\n",
        "\n",
        "print(\"DQN model saved as 'dqn_loan_model.pth'\")\n",
        "\n",
        "# Save Q-Learning Q-table\n",
        "import pickle\n",
        "with open('qlearning_qtable.pkl', 'wb') as f:\n",
        "    pickle.dump(qlearning_agent.q_table, f)"
      ]
    },
    {
      "cell_type": "markdown",
      "metadata": {},
      "source": [
        "# =============================================================================\n",
        "# CRITICAL FIXES MADE TO THIS NOTEBOOK\n",
        "# =============================================================================\n",
        "\n",
        "## Problems Identified:\n",
        "1. **Negative Profits**: All models had negative profits because the environment was fundamentally unprofitable\n",
        "2. **Too Few Episodes**: 100 episodes is WAY too few for RL training\n",
        "3. **Unrealistic Default Rate**: 45.75% default rate made profitable lending impossible\n",
        "\n",
        "## Fixes Applied:\n",
        "\n",
        "### 1. Fixed Default Rate (Cell 3)\n",
        "- **Before**: 45.75% default rate (way too high!)\n",
        "- **After**: ~15-20% default rate (realistic for consumer loans)\n",
        "- **Why**: With 45% interest over 3 years, a 45.75% default rate means expected value is NEGATIVE\n",
        "  - Expected value calculation: 0.5425 × $9,000 - 0.4575 × $20,000 = -$4,268 per loan\n",
        "  - Even perfect risk assessment would lose money!\n",
        "\n",
        "### 2. Increased Training Episodes\n",
        "- **Q-Learning**: 100 → 500 episodes (Cell 12)\n",
        "- **DQN**: 100 → 1000 episodes (Cell 13)\n",
        "- **Why**: RL agents need hundreds to thousands of episodes to properly explore and learn optimal policies\n",
        "  - 100 episodes barely scratches the surface\n",
        "  - Epsilon decay was also adjusted (0.998 → 0.9995) to allow more exploration\n",
        "\n",
        "### 3. Fixed Reward Structure (Cell 5)\n",
        "- **Before**: Inconsistent scaling (rejection: ±10, approval: ±100s)\n",
        "- **After**: Better balanced rewards\n",
        "  - Rejection of good applicant: -5 (small opportunity cost)\n",
        "  - Rejection of risky applicant: +2 (small reward)\n",
        "  - Approval with default: -amount/1000 (scaled loss)\n",
        "  - Approval with repayment: +interest/1000 (scaled profit)\n",
        "- **Why**: Rewards should reflect actual economic value\n",
        "\n",
        "## Expected Results After Fixes:\n",
        "- ✅ **Positive Profits**: With realistic default rates, profitable lending is now possible\n",
        "- ✅ **Better Convergence**: More episodes allow agents to learn optimal strategies\n",
        "- ✅ **Balanced Actions**: Agents should approve profitable loans while rejecting risky ones\n",
        "- ✅ **Realistic Performance**: Results should reflect real-world lending scenarios\n",
        "\n",
        "## How to Re-run:\n",
        "Simply execute cells 3 onwards with the fixed parameters. Training will take longer (especially DQN with 1000 episodes), but results should now be **profitable and realistic**!\n"
      ]
    },
    {
      "cell_type": "code",
      "execution_count": 34,
      "metadata": {
        "colab": {
          "base_uri": "https://localhost:8080/",
          "height": 35
        },
        "id": "d6Wm3IN__zdB",
        "outputId": "ad6844ad-2df3-4bff-f659-ce7850e293cd"
      },
      "outputs": [
        {
          "data": {
            "text/plain": [
              "'\\nimport pickle\\nwith open(\\'qlearning_qtable.pkl\\', \\'rb\\') as f:\\n    loaded_qtable = pickle.load(f)\\nqlearning_agent.q_table = loaded_qtable\\nprint(\"Q-Learning Q-table loaded successfully!\")\\n'"
            ]
          },
          "execution_count": 34,
          "metadata": {},
          "output_type": "execute_result"
        }
      ],
      "source": [
        "# =============================================================================\n",
        "# CELL 25: Load Trained Models (Optional)\n",
        "# =============================================================================\n",
        "\n",
        "# Example: Load DQN model\n",
        "# Uncomment the code below if you want to load previously saved models\n",
        "\n",
        "\"\"\"\n",
        "loaded_dqn = DQNAgent(state_dim=8, action_dim=4)\n",
        "checkpoint = torch.load('dqn_loan_model.pth')\n",
        "loaded_dqn.policy_net.load_state_dict(checkpoint['policy_net_state_dict'])\n",
        "loaded_dqn.target_net.load_state_dict(checkpoint['target_net_state_dict'])\n",
        "loaded_dqn.optimizer.load_state_dict(checkpoint['optimizer_state_dict'])\n",
        "print(\"DQN model loaded successfully!\")\n",
        "\"\"\"\n",
        "\n",
        "# Example: Load Q-Learning Q-table\n",
        "\"\"\"\n",
        "import pickle\n",
        "with open('qlearning_qtable.pkl', 'rb') as f:\n",
        "    loaded_qtable = pickle.load(f)\n",
        "qlearning_agent.q_table = loaded_qtable\n",
        "print(\"Q-Learning Q-table loaded successfully!\")\n",
        "\"\"\"\n"
      ]
    }
  ],
  "metadata": {
    "colab": {
      "provenance": []
    },
    "kernelspec": {
      "display_name": ".venv",
      "language": "python",
      "name": "python3"
    },
    "language_info": {
      "codemirror_mode": {
        "name": "ipython",
        "version": 3
      },
      "file_extension": ".py",
      "mimetype": "text/x-python",
      "name": "python",
      "nbconvert_exporter": "python",
      "pygments_lexer": "ipython3",
      "version": "3.13.1"
    }
  },
  "nbformat": 4,
  "nbformat_minor": 0
}
